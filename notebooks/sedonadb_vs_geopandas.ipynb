{
 "cells": [
  {
   "cell_type": "markdown",
   "id": "26ec3be7-86bc-4d88-bc9e-9289c1be31dd",
   "metadata": {},
   "source": [
    "# SedonaDB vs. GeoPandas\n",
    "\n",
    "This notebook demonstrates a SedonaDB query vs. an equivalent query in GeoPandas.\n",
    "\n",
    "It uses the data from [SpatialBench](https://sedona.apache.org/spatialbench/)."
   ]
  },
  {
   "cell_type": "markdown",
   "id": "a0f56d37-3d55-4a30-aaec-7af33570b4d8",
   "metadata": {},
   "source": [
    "## SedonaDB query"
   ]
  },
  {
   "cell_type": "code",
   "execution_count": 1,
   "id": "9bfb1f44-4534-4891-b7cb-5553e8ce308e",
   "metadata": {},
   "outputs": [],
   "source": [
    "import sedona.db"
   ]
  },
  {
   "cell_type": "code",
   "execution_count": 2,
   "id": "f9f22884-63ac-4273-9a3f-47473fb9cb8a",
   "metadata": {},
   "outputs": [],
   "source": [
    "sd = sedona.db.connect()"
   ]
  },
  {
   "cell_type": "code",
   "execution_count": 3,
   "id": "1898e49b-4033-444e-99b9-eb6688d4e913",
   "metadata": {},
   "outputs": [],
   "source": [
    "data_dir = \"/Users/matthewpowers/data\""
   ]
  },
  {
   "cell_type": "code",
   "execution_count": 4,
   "id": "9efc7052-a32d-4aac-9962-af0547851969",
   "metadata": {},
   "outputs": [],
   "source": [
    "sd.read_parquet(f\"{data_dir}/sf1-parquet/building.parquet\").to_view(\"building\")\n",
    "sd.read_parquet(f\"{data_dir}/sf1-parquet/trip.parquet\").to_view(\"trip\")"
   ]
  },
  {
   "cell_type": "code",
   "execution_count": 5,
   "id": "d4b52903-6680-475f-8010-8075882ea2a0",
   "metadata": {},
   "outputs": [],
   "source": [
    "sql = \"\"\"\n",
    "SELECT b.b_buildingkey, b.b_name, COUNT(*) AS nearby_pickup_count\n",
    "FROM trip t \n",
    "JOIN building b ON ST_DWithin(ST_GeomFromWKB(t.t_pickuploc), ST_GeomFromWKB(b.b_boundary), 0.0045) -- ~500m\n",
    "GROUP BY b.b_buildingkey, b.b_name\n",
    "ORDER BY nearby_pickup_count DESC, b.b_buildingkey ASC\n",
    "\"\"\""
   ]
  },
  {
   "cell_type": "code",
   "execution_count": 6,
   "id": "a10f23e5-c355-4d91-9dd5-7d4f147fdade",
   "metadata": {},
   "outputs": [
    {
     "name": "stdout",
     "output_type": "stream",
     "text": [
      "┌───────────────┬───────────┬─────────────────────┐\n",
      "│ b_buildingkey ┆   b_name  ┆ nearby_pickup_count │\n",
      "│     int64     ┆    utf8   ┆        int64        │\n",
      "╞═══════════════╪═══════════╪═════════════════════╡\n",
      "│          3779 ┆ linen     ┆                  42 │\n",
      "├╌╌╌╌╌╌╌╌╌╌╌╌╌╌╌┼╌╌╌╌╌╌╌╌╌╌╌┼╌╌╌╌╌╌╌╌╌╌╌╌╌╌╌╌╌╌╌╌╌┤\n",
      "│         19135 ┆ misty     ┆                  36 │\n",
      "├╌╌╌╌╌╌╌╌╌╌╌╌╌╌╌┼╌╌╌╌╌╌╌╌╌╌╌┼╌╌╌╌╌╌╌╌╌╌╌╌╌╌╌╌╌╌╌╌╌┤\n",
      "│          4416 ┆ sienna    ┆                  26 │\n",
      "├╌╌╌╌╌╌╌╌╌╌╌╌╌╌╌┼╌╌╌╌╌╌╌╌╌╌╌┼╌╌╌╌╌╌╌╌╌╌╌╌╌╌╌╌╌╌╌╌╌┤\n",
      "│         12627 ┆ salmon    ┆                  22 │\n",
      "├╌╌╌╌╌╌╌╌╌╌╌╌╌╌╌┼╌╌╌╌╌╌╌╌╌╌╌┼╌╌╌╌╌╌╌╌╌╌╌╌╌╌╌╌╌╌╌╌╌┤\n",
      "│          1906 ┆ burlywood ┆                  19 │\n",
      "└───────────────┴───────────┴─────────────────────┘\n",
      "CPU times: user 1.07 s, sys: 38 ms, total: 1.11 s\n",
      "Wall time: 336 ms\n"
     ]
    }
   ],
   "source": [
    "%%time\n",
    "sd.sql(sql).show(5)"
   ]
  },
  {
   "cell_type": "code",
   "execution_count": 7,
   "id": "1ae237d4-0f70-4553-9eb9-3b0c188782b0",
   "metadata": {},
   "outputs": [
    {
     "data": {
      "text/plain": [
       "375"
      ]
     },
     "execution_count": 7,
     "metadata": {},
     "output_type": "execute_result"
    }
   ],
   "source": [
    "sd.sql(sql).count()"
   ]
  },
  {
   "cell_type": "markdown",
   "id": "54c91666-88db-4c94-ad70-9a00ba69662a",
   "metadata": {},
   "source": [
    "## GeoPandas query"
   ]
  },
  {
   "cell_type": "code",
   "execution_count": 8,
   "id": "5ee851d6-3b0d-4ff8-83a2-41418c8cf78e",
   "metadata": {},
   "outputs": [],
   "source": [
    "import pandas as pd\n",
    "import geopandas as gpd"
   ]
  },
  {
   "cell_type": "code",
   "execution_count": 9,
   "id": "b6dec3ed-ce12-4d45-a742-7b8788a2e2b5",
   "metadata": {},
   "outputs": [],
   "source": [
    "trips_df = pd.read_parquet(f\"{data_dir}/sf1-parquet/trip.parquet\")\n",
    "trips_df[\"pickup_geom\"] = gpd.GeoSeries.from_wkb(\n",
    "    trips_df[\"t_pickuploc\"], crs=\"EPSG:4326\"\n",
    ")\n",
    "pickups_gdf = gpd.GeoDataFrame(trips_df, geometry=\"pickup_geom\", crs=\"EPSG:4326\")"
   ]
  },
  {
   "cell_type": "code",
   "execution_count": 10,
   "id": "0fd5a63d-a0dc-442a-afa9-64fe28db8d42",
   "metadata": {},
   "outputs": [],
   "source": [
    "buildings_df = pd.read_parquet(f\"{data_dir}/sf1-parquet/building.parquet\")\n",
    "buildings_df[\"boundary_geom\"] = gpd.GeoSeries.from_wkb(\n",
    "    buildings_df[\"b_boundary\"], crs=\"EPSG:4326\"\n",
    ")\n",
    "buildings_gdf = gpd.GeoDataFrame(\n",
    "    buildings_df, geometry=\"boundary_geom\", crs=\"EPSG:4326\"\n",
    ")"
   ]
  },
  {
   "cell_type": "code",
   "execution_count": 11,
   "id": "1127002f-d10b-40e7-90ba-87ef565390f9",
   "metadata": {},
   "outputs": [
    {
     "name": "stdout",
     "output_type": "stream",
     "text": [
      "     b_buildingkey     b_name  nearby_pickup_count\n",
      "0             3779      linen                   42\n",
      "1            19135      misty                   36\n",
      "2             4416     sienna                   26\n",
      "3            12627     salmon                   22\n",
      "4             1906  burlywood                   19\n",
      "..             ...        ...                  ...\n",
      "370          19888      black                    1\n",
      "371          19941       blue                    1\n",
      "372          19951      lemon                    1\n",
      "373          19959    magenta                    1\n",
      "374          19996      black                    1\n",
      "\n",
      "[375 rows x 3 columns]\n"
     ]
    }
   ],
   "source": [
    "threshold = 0.0045  # degrees (~500m)\n",
    "result = (\n",
    "    buildings_gdf.sjoin(pickups_gdf, predicate=\"dwithin\", distance=threshold)\n",
    "    .groupby([\"b_buildingkey\", \"b_name\"], as_index=False)\n",
    "    .size()\n",
    "    .rename(columns={\"size\": \"nearby_pickup_count\"})\n",
    "    .sort_values([\"nearby_pickup_count\", \"b_buildingkey\"], ascending=[False, True])\n",
    "    .reset_index(drop=True)\n",
    ")\n",
    "print(result)"
   ]
  }
 ],
 "metadata": {
  "kernelspec": {
   "display_name": "Python 3 (ipykernel)",
   "language": "python",
   "name": "python3"
  },
  "language_info": {
   "codemirror_mode": {
    "name": "ipython",
    "version": 3
   },
   "file_extension": ".py",
   "mimetype": "text/x-python",
   "name": "python",
   "nbconvert_exporter": "python",
   "pygments_lexer": "ipython3",
   "version": "3.12.4"
  }
 },
 "nbformat": 4,
 "nbformat_minor": 5
}
