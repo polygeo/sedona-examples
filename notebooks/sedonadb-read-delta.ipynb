{
 "cells": [
  {
   "cell_type": "markdown",
   "id": "bd223ee1-1a7e-48ab-8a0e-e22cf208bee3",
   "metadata": {},
   "source": [
    "# Read a Delta Lake table with SedonaDB"
   ]
  },
  {
   "cell_type": "code",
   "execution_count": 1,
   "id": "602be135-ea64-471a-b37b-d202e38d4f30",
   "metadata": {},
   "outputs": [],
   "source": [
    "from deltalake import write_deltalake, DeltaTable\n",
    "import pandas as pd"
   ]
  },
  {
   "cell_type": "markdown",
   "id": "b87aa36e-46e6-4d96-b3f5-a18d16811e59",
   "metadata": {},
   "source": [
    "## Create a Delta Lake table"
   ]
  },
  {
   "cell_type": "code",
   "execution_count": 2,
   "id": "8ba72f68-168f-471a-a71c-c931da4ec0f8",
   "metadata": {},
   "outputs": [],
   "source": [
    "data = {\n",
    "    'id': [1, 2, 3, 4, 5],\n",
    "    'name': ['Store A', 'Park B', 'Building C', 'Restaurant D', 'Campus E'],\n",
    "    'type': ['point', 'polygon', 'polygon', 'point', 'polygon'],\n",
    "    'geometry': [\n",
    "        'POINT (-73.9857 40.7484)',  # Point in NYC\n",
    "        'POLYGON ((-122.4194 37.7749, -122.4094 37.7749, -122.4094 37.7849, -122.4194 37.7849, -122.4194 37.7749))',  # Square polygon in SF\n",
    "        'POLYGON ((-87.6298 41.8781, -87.6198 41.8781, -87.6198 41.8881, -87.6298 41.8881, -87.6298 41.8781))',  # Square polygon in Chicago\n",
    "        'POINT (-97.7431 30.2672)',  # Point in Austin\n",
    "        'POLYGON ((-118.2437 34.0522, -118.2337 34.0522, -118.2337 34.0622, -118.2437 34.0622, -118.2437 34.0522))'  # Square polygon in LA\n",
    "    ]\n",
    "}\n",
    "\n",
    "df = pd.DataFrame(data)"
   ]
  },
  {
   "cell_type": "code",
   "execution_count": 3,
   "id": "0ff9aacf-35ac-49b8-8f97-b41fb677333a",
   "metadata": {},
   "outputs": [
    {
     "name": "stdout",
     "output_type": "stream",
     "text": [
      "   id          name     type  \\\n",
      "0   1       Store A    point   \n",
      "1   2        Park B  polygon   \n",
      "2   3    Building C  polygon   \n",
      "3   4  Restaurant D    point   \n",
      "4   5      Campus E  polygon   \n",
      "\n",
      "                                            geometry  \n",
      "0                           POINT (-73.9857 40.7484)  \n",
      "1  POLYGON ((-122.4194 37.7749, -122.4094 37.7749...  \n",
      "2  POLYGON ((-87.6298 41.8781, -87.6198 41.8781, ...  \n",
      "3                           POINT (-97.7431 30.2672)  \n",
      "4  POLYGON ((-118.2437 34.0522, -118.2337 34.0522...  \n"
     ]
    }
   ],
   "source": [
    "print(df)"
   ]
  },
  {
   "cell_type": "code",
   "execution_count": 4,
   "id": "11d09385-6dd0-433a-9fa5-e2c0a954fe5e",
   "metadata": {},
   "outputs": [],
   "source": [
    "table_path = \"/tmp/fun_delta\""
   ]
  },
  {
   "cell_type": "code",
   "execution_count": 5,
   "id": "8d7531a9-9b54-4f57-a681-3e2d64ea42db",
   "metadata": {},
   "outputs": [],
   "source": [
    "write_deltalake(\n",
    "    table_path,\n",
    "    df,\n",
    "    mode=\"overwrite\"\n",
    ")"
   ]
  },
  {
   "cell_type": "markdown",
   "id": "35ae5af3-a588-432a-98d2-3c5c91ecb2b1",
   "metadata": {},
   "source": [
    "## Read the Delta Lake table to SedonaDB"
   ]
  },
  {
   "cell_type": "code",
   "execution_count": 6,
   "id": "df5fbbe1-2a54-4e8b-8cd4-1cb953da16ce",
   "metadata": {},
   "outputs": [],
   "source": [
    "dt = DeltaTable(table_path)"
   ]
  },
  {
   "cell_type": "code",
   "execution_count": 7,
   "id": "e633313d-57f4-4c19-a530-961b1816dc79",
   "metadata": {},
   "outputs": [],
   "source": [
    "arrow_table = dt.to_pyarrow_table()"
   ]
  },
  {
   "cell_type": "code",
   "execution_count": 8,
   "id": "c0fe3356-5fa3-4a72-8d96-d5d6936cbcba",
   "metadata": {},
   "outputs": [],
   "source": [
    "import sedona.db"
   ]
  },
  {
   "cell_type": "code",
   "execution_count": 9,
   "id": "05b165e0-cbf9-455c-85de-1ed3c998c1dc",
   "metadata": {},
   "outputs": [],
   "source": [
    "sd = sedona.db.connect()"
   ]
  },
  {
   "cell_type": "code",
   "execution_count": 10,
   "id": "aaa25267-a6e6-442c-b0be-e80d718f453a",
   "metadata": {},
   "outputs": [],
   "source": [
    "df = sd.create_data_frame(arrow_table)"
   ]
  },
  {
   "cell_type": "code",
   "execution_count": 11,
   "id": "ee60a129-a7ca-4e85-867c-c38513417986",
   "metadata": {},
   "outputs": [
    {
     "name": "stdout",
     "output_type": "stream",
     "text": [
      "┌───────┬──────────────┬─────────┬─────────────────────────────────────────────────────────────────┐\n",
      "│   id  ┆     name     ┆   type  ┆                             geometry                            │\n",
      "│ int64 ┆     utf8     ┆   utf8  ┆                               utf8                              │\n",
      "╞═══════╪══════════════╪═════════╪═════════════════════════════════════════════════════════════════╡\n",
      "│     1 ┆ Store A      ┆ point   ┆ POINT (-73.9857 40.7484)                                        │\n",
      "├╌╌╌╌╌╌╌┼╌╌╌╌╌╌╌╌╌╌╌╌╌╌┼╌╌╌╌╌╌╌╌╌┼╌╌╌╌╌╌╌╌╌╌╌╌╌╌╌╌╌╌╌╌╌╌╌╌╌╌╌╌╌╌╌╌╌╌╌╌╌╌╌╌╌╌╌╌╌╌╌╌╌╌╌╌╌╌╌╌╌╌╌╌╌╌╌╌╌┤\n",
      "│     2 ┆ Park B       ┆ polygon ┆ POLYGON ((-122.4194 37.7749, -122.4094 37.7749, -122.4094 37.7… │\n",
      "├╌╌╌╌╌╌╌┼╌╌╌╌╌╌╌╌╌╌╌╌╌╌┼╌╌╌╌╌╌╌╌╌┼╌╌╌╌╌╌╌╌╌╌╌╌╌╌╌╌╌╌╌╌╌╌╌╌╌╌╌╌╌╌╌╌╌╌╌╌╌╌╌╌╌╌╌╌╌╌╌╌╌╌╌╌╌╌╌╌╌╌╌╌╌╌╌╌╌┤\n",
      "│     3 ┆ Building C   ┆ polygon ┆ POLYGON ((-87.6298 41.8781, -87.6198 41.8781, -87.6198 41.8881… │\n",
      "├╌╌╌╌╌╌╌┼╌╌╌╌╌╌╌╌╌╌╌╌╌╌┼╌╌╌╌╌╌╌╌╌┼╌╌╌╌╌╌╌╌╌╌╌╌╌╌╌╌╌╌╌╌╌╌╌╌╌╌╌╌╌╌╌╌╌╌╌╌╌╌╌╌╌╌╌╌╌╌╌╌╌╌╌╌╌╌╌╌╌╌╌╌╌╌╌╌╌┤\n",
      "│     4 ┆ Restaurant D ┆ point   ┆ POINT (-97.7431 30.2672)                                        │\n",
      "├╌╌╌╌╌╌╌┼╌╌╌╌╌╌╌╌╌╌╌╌╌╌┼╌╌╌╌╌╌╌╌╌┼╌╌╌╌╌╌╌╌╌╌╌╌╌╌╌╌╌╌╌╌╌╌╌╌╌╌╌╌╌╌╌╌╌╌╌╌╌╌╌╌╌╌╌╌╌╌╌╌╌╌╌╌╌╌╌╌╌╌╌╌╌╌╌╌╌┤\n",
      "│     5 ┆ Campus E     ┆ polygon ┆ POLYGON ((-118.2437 34.0522, -118.2337 34.0522, -118.2337 34.0… │\n",
      "└───────┴──────────────┴─────────┴─────────────────────────────────────────────────────────────────┘\n"
     ]
    }
   ],
   "source": [
    "df.show()"
   ]
  },
  {
   "cell_type": "code",
   "execution_count": 12,
   "id": "e525370e-eba9-4d83-be89-bd9e2226b47d",
   "metadata": {},
   "outputs": [],
   "source": [
    "df.to_view(\"my_table\")"
   ]
  },
  {
   "cell_type": "code",
   "execution_count": 13,
   "id": "9b38cd5b-d4b2-4344-a4d7-b914f2d9723d",
   "metadata": {},
   "outputs": [],
   "source": [
    "df = sd.sql(\"\"\"\n",
    "SELECT\n",
    "  id,\n",
    "  name,\n",
    "  type,\n",
    "  ST_GeomFromWKT(geometry) as geom\n",
    "from my_table\n",
    "\"\"\")"
   ]
  },
  {
   "cell_type": "code",
   "execution_count": 14,
   "id": "1b7205f4-06ab-4369-b900-f33964c8ebd4",
   "metadata": {},
   "outputs": [
    {
     "name": "stdout",
     "output_type": "stream",
     "text": [
      "┌───────┬──────────────┬─────────┬─────────────────────────────────────────────────────────────────┐\n",
      "│   id  ┆     name     ┆   type  ┆                               geom                              │\n",
      "│ int64 ┆     utf8     ┆   utf8  ┆                             geometry                            │\n",
      "╞═══════╪══════════════╪═════════╪═════════════════════════════════════════════════════════════════╡\n",
      "│     1 ┆ Store A      ┆ point   ┆ POINT(-73.9857 40.7484)                                         │\n",
      "├╌╌╌╌╌╌╌┼╌╌╌╌╌╌╌╌╌╌╌╌╌╌┼╌╌╌╌╌╌╌╌╌┼╌╌╌╌╌╌╌╌╌╌╌╌╌╌╌╌╌╌╌╌╌╌╌╌╌╌╌╌╌╌╌╌╌╌╌╌╌╌╌╌╌╌╌╌╌╌╌╌╌╌╌╌╌╌╌╌╌╌╌╌╌╌╌╌╌┤\n",
      "│     2 ┆ Park B       ┆ polygon ┆ POLYGON((-122.4194 37.7749,-122.4094 37.7749,-122.4094 37.7849… │\n",
      "├╌╌╌╌╌╌╌┼╌╌╌╌╌╌╌╌╌╌╌╌╌╌┼╌╌╌╌╌╌╌╌╌┼╌╌╌╌╌╌╌╌╌╌╌╌╌╌╌╌╌╌╌╌╌╌╌╌╌╌╌╌╌╌╌╌╌╌╌╌╌╌╌╌╌╌╌╌╌╌╌╌╌╌╌╌╌╌╌╌╌╌╌╌╌╌╌╌╌┤\n",
      "│     3 ┆ Building C   ┆ polygon ┆ POLYGON((-87.6298 41.8781,-87.6198 41.8781,-87.6198 41.8881,-8… │\n",
      "├╌╌╌╌╌╌╌┼╌╌╌╌╌╌╌╌╌╌╌╌╌╌┼╌╌╌╌╌╌╌╌╌┼╌╌╌╌╌╌╌╌╌╌╌╌╌╌╌╌╌╌╌╌╌╌╌╌╌╌╌╌╌╌╌╌╌╌╌╌╌╌╌╌╌╌╌╌╌╌╌╌╌╌╌╌╌╌╌╌╌╌╌╌╌╌╌╌╌┤\n",
      "│     4 ┆ Restaurant D ┆ point   ┆ POINT(-97.7431 30.2672)                                         │\n",
      "├╌╌╌╌╌╌╌┼╌╌╌╌╌╌╌╌╌╌╌╌╌╌┼╌╌╌╌╌╌╌╌╌┼╌╌╌╌╌╌╌╌╌╌╌╌╌╌╌╌╌╌╌╌╌╌╌╌╌╌╌╌╌╌╌╌╌╌╌╌╌╌╌╌╌╌╌╌╌╌╌╌╌╌╌╌╌╌╌╌╌╌╌╌╌╌╌╌╌┤\n",
      "│     5 ┆ Campus E     ┆ polygon ┆ POLYGON((-118.2437 34.0522,-118.2337 34.0522,-118.2337 34.0622… │\n",
      "└───────┴──────────────┴─────────┴─────────────────────────────────────────────────────────────────┘\n"
     ]
    }
   ],
   "source": [
    "df.show()"
   ]
  }
 ],
 "metadata": {
  "kernelspec": {
   "display_name": "Python 3 (ipykernel)",
   "language": "python",
   "name": "python3"
  },
  "language_info": {
   "codemirror_mode": {
    "name": "ipython",
    "version": 3
   },
   "file_extension": ".py",
   "mimetype": "text/x-python",
   "name": "python",
   "nbconvert_exporter": "python",
   "pygments_lexer": "ipython3",
   "version": "3.12.4"
  }
 },
 "nbformat": 4,
 "nbformat_minor": 5
}
