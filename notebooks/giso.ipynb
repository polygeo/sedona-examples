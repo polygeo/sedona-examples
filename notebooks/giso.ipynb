{
 "cells": [
  {
   "cell_type": "code",
   "execution_count": 1,
   "id": "21eab24d-84bd-43e2-b195-e3b38b5bb583",
   "metadata": {},
   "outputs": [],
   "source": [
    "import giso"
   ]
  },
  {
   "cell_type": "code",
   "execution_count": 2,
   "id": "10073fc2-5be7-4366-99b7-ac2b4283a335",
   "metadata": {},
   "outputs": [
    {
     "data": {
      "text/plain": [
       "'SG-01'"
      ]
     },
     "execution_count": 2,
     "metadata": {},
     "output_type": "execute_result"
    }
   ],
   "source": [
    "giso.reverse_geocode(103.8455041, 1.2936855)"
   ]
  },
  {
   "cell_type": "code",
   "execution_count": 3,
   "id": "177a20cb-59ac-4b38-a492-72c1d0365aa0",
   "metadata": {},
   "outputs": [
    {
     "data": {
      "image/svg+xml": [
       "<svg xmlns=\"http://www.w3.org/2000/svg\" xmlns:xlink=\"http://www.w3.org/1999/xlink\" width=\"100.0\" height=\"100.0\" viewBox=\"103.80016456000001 1.26573156 0.11546087999998633 0.16703387999999997\" preserveAspectRatio=\"xMinYMin meet\"><g transform=\"matrix(1,0,0,-1,0,2.698497)\"><path fill-rule=\"evenodd\" fill=\"#66cc99\" stroke=\"#555555\" stroke-width=\"0.0033406775999999996\" opacity=\"0.6\" d=\"M 103.898102,1.305241 L 103.887706,1.301256 L 103.852712,1.277289 L 103.846934,1.271918 L 103.840009,1.27375 L 103.828358,1.278281 L 103.819297,1.283459 L 103.809587,1.293815 L 103.806998,1.303524 L 103.807646,1.311939 L 103.806351,1.324884 L 103.814766,1.331357 L 103.823827,1.340419 L 103.823827,1.350776 L 103.819297,1.357896 L 103.824475,1.365663 L 103.834831,1.371488 L 103.842598,1.377961 L 103.841304,1.385728 L 103.83742,1.393496 L 103.830948,1.400616 L 103.833537,1.40903 L 103.841304,1.416798 L 103.850366,1.417445 L 103.862664,1.416798 L 103.874315,1.418092 L 103.88147,1.426579 L 103.909439,1.41261 L 103.904737,1.406441 L 103.900853,1.396732 L 103.898911,1.386376 L 103.890497,1.383139 L 103.884024,1.379903 L 103.876904,1.372783 L 103.87302,1.363074 L 103.87302,1.353365 L 103.874962,1.343008 L 103.880788,1.333299 L 103.887908,1.322295 L 103.895028,1.310644 L 103.898102,1.305241 z\" /></g></svg>"
      ],
      "text/plain": [
       "<POLYGON ((103.898 1.305, 103.888 1.301, 103.853 1.277, 103.847 1.272, 103.8...>"
      ]
     },
     "execution_count": 3,
     "metadata": {},
     "output_type": "execute_result"
    }
   ],
   "source": [
    "giso.geocode(\"SG-01\")"
   ]
  },
  {
   "cell_type": "code",
   "execution_count": 4,
   "id": "2c37e3da-b2b7-4822-876d-c9339b303a6f",
   "metadata": {},
   "outputs": [
    {
     "data": {
      "text/plain": [
       "shapely.geometry.polygon.Polygon"
      ]
     },
     "execution_count": 4,
     "metadata": {},
     "output_type": "execute_result"
    }
   ],
   "source": [
    "type(giso.geocode(\"SG-01\"))"
   ]
  },
  {
   "cell_type": "code",
   "execution_count": 5,
   "id": "4f323132-f637-49d2-8bc2-2a6c9f5a086f",
   "metadata": {},
   "outputs": [
    {
     "data": {
      "text/plain": [
       "'POLYGON ((103.898102 1.305241, 103.887706 1.301256, 103.852712 1.277289, 103.846934 1.271918, 103.840009 1.27375, 103.828358 1.278281, 103.819297 1.283459, 103.809587 1.293815, 103.806998 1.303524, 103.807646 1.311939, 103.806351 1.324884, 103.814766 1.331357, 103.823827 1.340419, 103.823827 1.350776, 103.819297 1.357896, 103.824475 1.365663, 103.834831 1.371488, 103.842598 1.377961, 103.841304 1.385728, 103.83742 1.393496, 103.830948 1.400616, 103.833537 1.40903, 103.841304 1.416798, 103.850366 1.417445, 103.862664 1.416798, 103.874315 1.418092, 103.88147 1.426579, 103.909439 1.41261, 103.904737 1.406441, 103.900853 1.396732, 103.898911 1.386376, 103.890497 1.383139, 103.884024 1.379903, 103.876904 1.372783, 103.87302 1.363074, 103.87302 1.353365, 103.874962 1.343008, 103.880788 1.333299, 103.887908 1.322295, 103.895028 1.310644, 103.898102 1.305241))'"
      ]
     },
     "execution_count": 5,
     "metadata": {},
     "output_type": "execute_result"
    }
   ],
   "source": [
    "giso.geocode(\"SG-01\").wkt"
   ]
  },
  {
   "cell_type": "code",
   "execution_count": null,
   "id": "68308d0d-da2f-4d14-94d7-3682a3c37937",
   "metadata": {},
   "outputs": [],
   "source": []
  }
 ],
 "metadata": {
  "kernelspec": {
   "display_name": "Python 3 (ipykernel)",
   "language": "python",
   "name": "python3"
  },
  "language_info": {
   "codemirror_mode": {
    "name": "ipython",
    "version": 3
   },
   "file_extension": ".py",
   "mimetype": "text/x-python",
   "name": "python",
   "nbconvert_exporter": "python",
   "pygments_lexer": "ipython3",
   "version": "3.12.4"
  }
 },
 "nbformat": 4,
 "nbformat_minor": 5
}
