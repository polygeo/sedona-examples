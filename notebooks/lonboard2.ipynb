{
 "cells": [
  {
   "cell_type": "markdown",
   "id": "567874a0-6495-4074-8d4c-3a96b50991dd",
   "metadata": {},
   "source": [
    "# Lonboard Examples"
   ]
  },
  {
   "cell_type": "code",
   "execution_count": 1,
   "id": "ccef3465-b25b-49fe-9745-05628d09de16",
   "metadata": {},
   "outputs": [],
   "source": [
    "import numpy as np\n",
    "from matplotlib.colors import LogNorm\n",
    "from palettable.colorbrewer.sequential import Oranges_9\n",
    "\n",
    "from lonboard import Map, PolygonLayer\n",
    "from lonboard.colormap import apply_continuous_cmap"
   ]
  },
  {
   "cell_type": "code",
   "execution_count": 4,
   "id": "96cb7278-c1e8-4a3d-bf36-e8e5fbb6d513",
   "metadata": {},
   "outputs": [],
   "source": [
    "import sedona.db\n",
    "import os\n",
    "\n",
    "os.environ[\"AWS_SKIP_SIGNATURE\"] = \"true\"\n",
    "os.environ[\"AWS_DEFAULT_REGION\"] = \"us-west-2\"\n",
    "\n",
    "sd = sedona.db.connect()"
   ]
  },
  {
   "cell_type": "code",
   "execution_count": 5,
   "id": "43af3154-5cc1-483a-9495-d9a2f9aa454b",
   "metadata": {},
   "outputs": [],
   "source": [
    "df = sd.read_parquet(\n",
    "    \"s3://overturemaps-us-west-2/release/2025-08-20.0/theme=buildings/type=building/\"\n",
    ")"
   ]
  },
  {
   "cell_type": "code",
   "execution_count": 7,
   "id": "b104d8e9-2dd2-45de-b48e-195283aec719",
   "metadata": {},
   "outputs": [],
   "source": [
    "df.to_view(\"buildings\")"
   ]
  },
  {
   "cell_type": "code",
   "execution_count": 2,
   "id": "cad57eb0-425c-46e3-8a7e-bc9cb1798a81",
   "metadata": {},
   "outputs": [],
   "source": [
    "nyc_bbox_wkt = (\n",
    "    \"POLYGON((-74.2591 40.4774, -74.2591 40.9176, -73.7004 40.9176, -73.7004 40.4774, -74.2591 40.4774))\"\n",
    ")"
   ]
  },
  {
   "cell_type": "code",
   "execution_count": 10,
   "id": "609f4461-dbe0-49c3-8ae1-2b6b4eaa61a0",
   "metadata": {},
   "outputs": [],
   "source": [
    "nyc = sd.sql(f\"\"\"\n",
    "SELECT\n",
    "    id, height, geometry, names\n",
    "FROM buildings\n",
    "WHERE\n",
    "    ST_Intersects(\n",
    "        geometry,\n",
    "        ST_SetSRID(ST_GeomFromText('{nyc_bbox_wkt}'), 4326)\n",
    "    )\n",
    "\"\"\")"
   ]
  },
  {
   "cell_type": "code",
   "execution_count": 11,
   "id": "9b43f471-4359-43c8-9787-0974eb78ed53",
   "metadata": {},
   "outputs": [
    {
     "name": "stdout",
     "output_type": "stream",
     "text": [
      "┌─────────────────────────────┬─────────┬─────────────────────────────┬────────────────────────────┐\n",
      "│              id             ┆  height ┆           geometry          ┆            names           │\n",
      "│             utf8            ┆ float64 ┆           geometry          ┆           struct           │\n",
      "╞═════════════════════════════╪═════════╪═════════════════════════════╪════════════════════════════╡\n",
      "│ 98bdaaee-b58f-44e0-8295-b1… ┆     8.4 ┆ POLYGON((-74.2495739 40.50… ┆ {primary: , common: , rul… │\n",
      "├╌╌╌╌╌╌╌╌╌╌╌╌╌╌╌╌╌╌╌╌╌╌╌╌╌╌╌╌╌┼╌╌╌╌╌╌╌╌╌┼╌╌╌╌╌╌╌╌╌╌╌╌╌╌╌╌╌╌╌╌╌╌╌╌╌╌╌╌╌┼╌╌╌╌╌╌╌╌╌╌╌╌╌╌╌╌╌╌╌╌╌╌╌╌╌╌╌╌┤\n",
      "│ fb681a0b-ea9a-478b-a3e6-0c… ┆     8.3 ┆ POLYGON((-74.2495394 40.50… ┆ {primary: , common: , rul… │\n",
      "├╌╌╌╌╌╌╌╌╌╌╌╌╌╌╌╌╌╌╌╌╌╌╌╌╌╌╌╌╌┼╌╌╌╌╌╌╌╌╌┼╌╌╌╌╌╌╌╌╌╌╌╌╌╌╌╌╌╌╌╌╌╌╌╌╌╌╌╌╌┼╌╌╌╌╌╌╌╌╌╌╌╌╌╌╌╌╌╌╌╌╌╌╌╌╌╌╌╌┤\n",
      "│ 66c09e01-fb69-4196-ba01-1e… ┆     8.4 ┆ POLYGON((-74.2494029 40.50… ┆ {primary: , common: , rul… │\n",
      "├╌╌╌╌╌╌╌╌╌╌╌╌╌╌╌╌╌╌╌╌╌╌╌╌╌╌╌╌╌┼╌╌╌╌╌╌╌╌╌┼╌╌╌╌╌╌╌╌╌╌╌╌╌╌╌╌╌╌╌╌╌╌╌╌╌╌╌╌╌┼╌╌╌╌╌╌╌╌╌╌╌╌╌╌╌╌╌╌╌╌╌╌╌╌╌╌╌╌┤\n",
      "│ dd6f126e-f1ed-4dd2-9a00-91… ┆     8.4 ┆ POLYGON((-74.2490892 40.50… ┆ {primary: , common: , rul… │\n",
      "├╌╌╌╌╌╌╌╌╌╌╌╌╌╌╌╌╌╌╌╌╌╌╌╌╌╌╌╌╌┼╌╌╌╌╌╌╌╌╌┼╌╌╌╌╌╌╌╌╌╌╌╌╌╌╌╌╌╌╌╌╌╌╌╌╌╌╌╌╌┼╌╌╌╌╌╌╌╌╌╌╌╌╌╌╌╌╌╌╌╌╌╌╌╌╌╌╌╌┤\n",
      "│ b35a5e27-ed75-4c01-a4ab-86… ┆     8.7 ┆ POLYGON((-74.2491899 40.50… ┆ {primary: , common: , rul… │\n",
      "└─────────────────────────────┴─────────┴─────────────────────────────┴────────────────────────────┘\n"
     ]
    }
   ],
   "source": [
    "nyc.show(5)"
   ]
  },
  {
   "cell_type": "code",
   "execution_count": 14,
   "id": "44049e7b-fb4e-48e0-9f7f-4a39a94ac9f4",
   "metadata": {},
   "outputs": [],
   "source": [
    "nyc_table = nyc.to_arrow_table()"
   ]
  },
  {
   "cell_type": "code",
   "execution_count": 15,
   "id": "0b1c50d6-e4bf-464c-b024-593d685c74e8",
   "metadata": {},
   "outputs": [],
   "source": [
    "heights = nyc_table[\"height\"].to_numpy()\n",
    "heights = np.nan_to_num(heights, nan=1)"
   ]
  },
  {
   "cell_type": "code",
   "execution_count": 16,
   "id": "e1a14908-f453-4e29-9f75-fa506ff497d6",
   "metadata": {},
   "outputs": [],
   "source": [
    "normalizer = LogNorm(1, heights.max(), clip=True)\n",
    "normalized_heights = normalizer(heights)\n",
    "Oranges_9.mpl_colormap\n",
    "colors = apply_continuous_cmap(normalized_heights, Oranges_9)"
   ]
  },
  {
   "cell_type": "code",
   "execution_count": 17,
   "id": "48c83159-e7a4-4a72-adb5-a31aa9e1e9ca",
   "metadata": {},
   "outputs": [],
   "source": [
    "layer = PolygonLayer(\n",
    "    table=nyc_table,\n",
    "    extruded=True,\n",
    "    get_elevation=heights,\n",
    "    get_fill_color=colors,\n",
    ")"
   ]
  },
  {
   "cell_type": "code",
   "execution_count": 18,
   "id": "b4469d9a-3753-4ac6-b5d7-116b1d6bac8f",
   "metadata": {},
   "outputs": [
    {
     "data": {
      "application/vnd.jupyter.widget-view+json": {
       "model_id": "3c5f7772c2df42d3aafa5bde0e22d66a",
       "version_major": 2,
       "version_minor": 1
      },
      "text/plain": [
       "Map(custom_attribution='', layers=(PolygonLayer(extruded=True, get_elevation=arro3.core.ChunkedArray<Float32>\n",
       "…"
      ]
     },
     "execution_count": 18,
     "metadata": {},
     "output_type": "execute_result"
    }
   ],
   "source": [
    "view_state = {\n",
    "    \"longitude\": -73.98416810282863,\n",
    "    \"latitude\": 40.72651721370669,\n",
    "    \"zoom\": 12.726630492730596,\n",
    "    \"pitch\": 59.80465353190481,\n",
    "    \"bearing\": 13.243243243243244,\n",
    "}\n",
    "m = Map(layer, view_state=view_state)\n",
    "m"
   ]
  },
  {
   "cell_type": "code",
   "execution_count": null,
   "id": "dc5bd59a-f559-40c6-bb23-93fdc81c9930",
   "metadata": {},
   "outputs": [],
   "source": []
  }
 ],
 "metadata": {
  "kernelspec": {
   "display_name": "Python 3 (ipykernel)",
   "language": "python",
   "name": "python3"
  },
  "language_info": {
   "codemirror_mode": {
    "name": "ipython",
    "version": 3
   },
   "file_extension": ".py",
   "mimetype": "text/x-python",
   "name": "python",
   "nbconvert_exporter": "python",
   "pygments_lexer": "ipython3",
   "version": "3.12.4"
  }
 },
 "nbformat": 4,
 "nbformat_minor": 5
}
