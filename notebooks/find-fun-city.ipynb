{
 "cells": [
  {
   "cell_type": "code",
   "execution_count": 10,
   "id": "389fab0d-80d7-42ea-a2cc-7cabe344e55c",
   "metadata": {},
   "outputs": [],
   "source": [
    "main_amenity = \"undersea_hyperbaric_medicine\"\n",
    "target_amenities = \" 'assisted_living_facility', 'doula', 'blood_and_plasma_donation_center' \"\n",
    "dist_in_meters=100"
   ]
  },
  {
   "cell_type": "code",
   "execution_count": null,
   "id": "5d4ab9bc-e123-4893-8ef2-663885e6da46",
   "metadata": {},
   "outputs": [],
   "source": [
    "sd.sql(\n",
    "f\"\"\" WITH main AS ( \n",
    "SELECT \n",
    "    geometry AS geom, \n",
    "    addresses.locality as locality \n",
    "FROM places\n",
    "WHERE \n",
    "    categories.primary = '{main_amenity}' \n",
    "    and ARRAY_CONTAINS(addresses.country, 'US') \n",
    "), \n",
    "\n",
    "amenities AS ( \n",
    "SELECT \n",
    "    geometry AS geom, \n",
    "    categories.primary as cat \n",
    "FROM places\n",
    "WHERE \n",
    "    categories.primary IN ({target_amenities}) \n",
    "    and ARRAY_CONTAINS(addresses.country, 'US') \n",
    ") \n",
    "\n",
    "SELECT \n",
    "    COUNT(a.*) AS proximity_count, locality, array_distinct(array_agg(cat)) \n",
    "FROM main g \n",
    "JOIN amenities a ON ST_DWithin(g.geom, a.geom, {dist_in_meters}, True) \n",
    "group by locality \n",
    "order by 1 DESC \n",
    "\"\"\").show(5)"
   ]
  },
  {
   "cell_type": "code",
   "execution_count": 2,
   "id": "7ea35f4b-2d89-4afb-b993-e0ba3060b9fc",
   "metadata": {},
   "outputs": [],
   "source": [
    "import sedona.db\n",
    "import os\n",
    "\n",
    "os.environ[\"AWS_SKIP_SIGNATURE\"] = \"true\"\n",
    "os.environ[\"AWS_DEFAULT_REGION\"] = \"us-west-2\"\n",
    "\n",
    "sd = sedona.db.connect()"
   ]
  },
  {
   "cell_type": "code",
   "execution_count": 3,
   "id": "58181f27-5f1c-43ba-9e65-dc783e4f8196",
   "metadata": {},
   "outputs": [],
   "source": [
    "df = sd.read_parquet(\n",
    "    \"s3://overturemaps-us-west-2/release/2025-08-20.0/theme=places/type=place/\"\n",
    ")"
   ]
  },
  {
   "cell_type": "code",
   "execution_count": 4,
   "id": "7e6c3925-68a3-455d-aded-8748e5e47cd8",
   "metadata": {},
   "outputs": [],
   "source": [
    "df.to_view(\"places\")"
   ]
  },
  {
   "cell_type": "code",
   "execution_count": 11,
   "id": "107e530e-51c7-4c17-afa9-9dc5e48250c8",
   "metadata": {},
   "outputs": [
    {
     "ename": "SedonaError",
     "evalue": "The expression to get an indexed field is only valid for `Struct`, `Map` or `Null` types, got List(Field { name: \"element\", data_type: Struct([Field { name: \"freeform\", data_type: Utf8, nullable: true, dict_id: 0, dict_is_ordered: false, metadata: {} }, Field { name: \"locality\", data_type: Utf8, nullable: true, dict_id: 0, dict_is_ordered: false, metadata: {} }, Field { name: \"postcode\", data_type: Utf8, nullable: true, dict_id: 0, dict_is_ordered: false, metadata: {} }, Field { name: \"region\", data_type: Utf8, nullable: true, dict_id: 0, dict_is_ordered: false, metadata: {} }, Field { name: \"country\", data_type: Utf8, nullable: true, dict_id: 0, dict_is_ordered: false, metadata: {} }]), nullable: true, dict_id: 0, dict_is_ordered: false, metadata: {} })",
     "output_type": "error",
     "traceback": [
      "\u001b[0;31m---------------------------------------------------------------------------\u001b[0m",
      "\u001b[0;31mSedonaError\u001b[0m                               Traceback (most recent call last)",
      "Cell \u001b[0;32mIn[11], line 1\u001b[0m\n\u001b[0;32m----> 1\u001b[0m \u001b[43msd\u001b[49m\u001b[38;5;241;43m.\u001b[39;49m\u001b[43msql\u001b[49m\u001b[43m(\u001b[49m\u001b[38;5;124;43mf\u001b[39;49m\u001b[38;5;124;43m\"\"\"\u001b[39;49m\n\u001b[1;32m      2\u001b[0m \u001b[38;5;124;43mSELECT \u001b[39;49m\n\u001b[1;32m      3\u001b[0m \u001b[38;5;124;43m    geometry AS geom, \u001b[39;49m\n\u001b[1;32m      4\u001b[0m \u001b[38;5;124;43m    addresses.locality as locality \u001b[39;49m\n\u001b[1;32m      5\u001b[0m \u001b[38;5;124;43mFROM places\u001b[39;49m\n\u001b[1;32m      6\u001b[0m \u001b[38;5;124;43mWHERE \u001b[39;49m\n\u001b[1;32m      7\u001b[0m \u001b[38;5;124;43m    categories.primary = \u001b[39;49m\u001b[38;5;124;43m'\u001b[39;49m\u001b[38;5;132;43;01m{\u001b[39;49;00m\u001b[43mmain_amenity\u001b[49m\u001b[38;5;132;43;01m}\u001b[39;49;00m\u001b[38;5;124;43m'\u001b[39;49m\u001b[38;5;124;43m \u001b[39;49m\n\u001b[1;32m      8\u001b[0m \u001b[38;5;124;43m    AND array_has(addresses.country, \u001b[39;49m\u001b[38;5;124;43m'\u001b[39;49m\u001b[38;5;124;43mUS\u001b[39;49m\u001b[38;5;124;43m'\u001b[39;49m\u001b[38;5;124;43m)\u001b[39;49m\n\u001b[1;32m      9\u001b[0m \u001b[38;5;124;43m\"\"\"\u001b[39;49m\u001b[43m)\u001b[49m\u001b[38;5;241m.\u001b[39mshow(\u001b[38;5;241m3\u001b[39m)\n",
      "File \u001b[0;32m~/Documents/code/polygeo/sedona-examples/.venv/lib/python3.12/site-packages/sedonadb/context.py:171\u001b[0m, in \u001b[0;36mSedonaContext.sql\u001b[0;34m(self, sql)\u001b[0m\n\u001b[1;32m    155\u001b[0m \u001b[38;5;28;01mdef\u001b[39;00m\u001b[38;5;250m \u001b[39m\u001b[38;5;21msql\u001b[39m(\u001b[38;5;28mself\u001b[39m, sql: \u001b[38;5;28mstr\u001b[39m) \u001b[38;5;241m-\u001b[39m\u001b[38;5;241m>\u001b[39m DataFrame:\n\u001b[1;32m    156\u001b[0m \u001b[38;5;250m    \u001b[39m\u001b[38;5;124;03m\"\"\"Create a [DataFrame][sedonadb.dataframe.DataFrame] by executing SQL\u001b[39;00m\n\u001b[1;32m    157\u001b[0m \n\u001b[1;32m    158\u001b[0m \u001b[38;5;124;03m    Parses a SQL string into a logical plan and returns a DataFrame\u001b[39;00m\n\u001b[0;32m   (...)\u001b[0m\n\u001b[1;32m    169\u001b[0m \n\u001b[1;32m    170\u001b[0m \u001b[38;5;124;03m    \"\"\"\u001b[39;00m\n\u001b[0;32m--> 171\u001b[0m     \u001b[38;5;28;01mreturn\u001b[39;00m DataFrame(\u001b[38;5;28mself\u001b[39m\u001b[38;5;241m.\u001b[39m_impl, \u001b[38;5;28;43mself\u001b[39;49m\u001b[38;5;241;43m.\u001b[39;49m\u001b[43m_impl\u001b[49m\u001b[38;5;241;43m.\u001b[39;49m\u001b[43msql\u001b[49m\u001b[43m(\u001b[49m\u001b[43msql\u001b[49m\u001b[43m)\u001b[49m, \u001b[38;5;28mself\u001b[39m\u001b[38;5;241m.\u001b[39moptions)\n",
      "\u001b[0;31mSedonaError\u001b[0m: The expression to get an indexed field is only valid for `Struct`, `Map` or `Null` types, got List(Field { name: \"element\", data_type: Struct([Field { name: \"freeform\", data_type: Utf8, nullable: true, dict_id: 0, dict_is_ordered: false, metadata: {} }, Field { name: \"locality\", data_type: Utf8, nullable: true, dict_id: 0, dict_is_ordered: false, metadata: {} }, Field { name: \"postcode\", data_type: Utf8, nullable: true, dict_id: 0, dict_is_ordered: false, metadata: {} }, Field { name: \"region\", data_type: Utf8, nullable: true, dict_id: 0, dict_is_ordered: false, metadata: {} }, Field { name: \"country\", data_type: Utf8, nullable: true, dict_id: 0, dict_is_ordered: false, metadata: {} }]), nullable: true, dict_id: 0, dict_is_ordered: false, metadata: {} })"
     ]
    }
   ],
   "source": [
    "sd.sql(f\"\"\"\n",
    "SELECT \n",
    "    geometry AS geom, \n",
    "    addresses.locality as locality \n",
    "FROM places\n",
    "WHERE \n",
    "    categories.primary = '{main_amenity}' \n",
    "    AND array_has(addresses.country, 'US')\n",
    "\"\"\").show(3)"
   ]
  },
  {
   "cell_type": "code",
   "execution_count": null,
   "id": "23252030-88d3-4831-983d-3db6362a3a4e",
   "metadata": {},
   "outputs": [],
   "source": []
  }
 ],
 "metadata": {
  "kernelspec": {
   "display_name": "Python 3 (ipykernel)",
   "language": "python",
   "name": "python3"
  },
  "language_info": {
   "codemirror_mode": {
    "name": "ipython",
    "version": 3
   },
   "file_extension": ".py",
   "mimetype": "text/x-python",
   "name": "python",
   "nbconvert_exporter": "python",
   "pygments_lexer": "ipython3",
   "version": "3.12.4"
  }
 },
 "nbformat": 4,
 "nbformat_minor": 5
}
