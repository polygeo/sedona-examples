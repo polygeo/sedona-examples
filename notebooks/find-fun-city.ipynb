{
 "cells": [
  {
   "cell_type": "code",
   "execution_count": 66,
   "id": "389fab0d-80d7-42ea-a2cc-7cabe344e55c",
   "metadata": {},
   "outputs": [],
   "source": [
    "main_amenity = \"undersea_hyperbaric_medicine\"\n",
    "target_amenities = \"'assisted_living_facility', 'doula', 'blood_and_plasma_donation_center'\"\n",
    "dist_in_meters=100"
   ]
  },
  {
   "cell_type": "code",
   "execution_count": 2,
   "id": "7ea35f4b-2d89-4afb-b993-e0ba3060b9fc",
   "metadata": {},
   "outputs": [],
   "source": [
    "import sedona.db\n",
    "import os\n",
    "\n",
    "os.environ[\"AWS_SKIP_SIGNATURE\"] = \"true\"\n",
    "os.environ[\"AWS_DEFAULT_REGION\"] = \"us-west-2\"\n",
    "\n",
    "sd = sedona.db.connect()"
   ]
  },
  {
   "cell_type": "code",
   "execution_count": 3,
   "id": "58181f27-5f1c-43ba-9e65-dc783e4f8196",
   "metadata": {},
   "outputs": [],
   "source": [
    "df = sd.read_parquet(\n",
    "    \"s3://overturemaps-us-west-2/release/2025-08-20.0/theme=places/type=place/\"\n",
    ")"
   ]
  },
  {
   "cell_type": "code",
   "execution_count": 4,
   "id": "61c6a7c3-406e-4f5e-8d0c-bd63a7557a2e",
   "metadata": {},
   "outputs": [
    {
     "data": {
      "text/plain": [
       "SedonaSchema with 14 fields:\n",
       "  id: utf8<Utf8View>\n",
       "  geometry: geometry<WkbView(ogc:crs84)>\n",
       "  bbox: struct<Struct(xmin Float32, xmax Float32, ymin Float32, ymax Float32)>\n",
       "  version: int32<Int32>\n",
       "  sources: list<List(Field { name: \"element\", data_type: Struct([Field { name: \"property\", data_type: Utf8, nullable: true, dict_id: 0, dict_is_ordered: false, metadata: {} }, Field { name: \"dataset\", data_type: Utf8, nullable: true, dict_id: 0, dict_is_ordered: false, metadata: {} }, Field { name: \"record_id\", data_type: Utf8, nullable: true, dict_id: 0, dict_is_ordered: false, metadata: {} }, Field { name: \"update_time\", data_type: Utf8, nullable: true, dict_id: 0, dict_is_ordered: false, metadata: {} }, Field { name: \"confidence\", data_type: Float64, nullable: true, dict_id: 0, dict_is_ordered: false, metadata: {} }, Field { name: \"between\", data_type: List(Field { name: \"element\", data_type: Float64, nullable: true, dict_id: 0, dict_is_ordered: false, metadata: {} }), nullable: true, dict_id: 0, dict_is_ordered: false, metadata: {} }]), nullable: true, dict_id: 0, dict_is_ordered: false, metadata: {} })>\n",
       "  names: struct<Struct(primary Utf8, common Map(Field { name: \"key_value\", data_type: Struct([Field { name: \"key\", data_type: Utf8, nullable: false, dict_id: 0, dict_is_ordered: false, metadata: {} }, Field { name: \"value\", data_type: Utf8, nullable: true, dict_id: 0, dict_is_ordered: false, metadata: {} }]), nullable: false, dict_id: 0, dict_is_ordered: false, metadata: {} }, false), rules List(Field { name: \"element\", data_type: Struct([Field { name: \"variant\", data_type: Utf8, nullable: true, dict_id: 0, dict_is_ordered: false, metadata: {} }, Field { name: \"language\", data_type: Utf8, nullable: true, dict_id: 0, dict_is_ordered: false, metadata: {} }, Field { name: \"perspectives\", data_type: Struct([Field { name: \"mode\", data_type: Utf8, nullable: true, dict_id: 0, dict_is_ordered: false, metadata: {} }, Field { name: \"countries\", data_type: List(Field { name: \"element\", data_type: Utf8, nullable: true, dict_id: 0, dict_is_ordered: false, metadata: {} }), nullable: true, dict_id: 0, dict_is_ordered: false, metadata: {} }]), nullable: true, dict_id: 0, dict_is_ordered: false, metadata: {} }, Field { name: \"value\", data_type: Utf8, nullable: true, dict_id: 0, dict_is_ordered: false, metadata: {} }, Field { name: \"between\", data_type: List(Field { name: \"element\", data_type: Float64, nullable: true, dict_id: 0, dict_is_ordered: false, metadata: {} }), nullable: true, dict_id: 0, dict_is_ordered: false, metadata: {} }, Field { name: \"side\", data_type: Utf8, nullable: true, dict_id: 0, dict_is_ordered: false, metadata: {} }]), nullable: true, dict_id: 0, dict_is_ordered: false, metadata: {} }))>\n",
       "  categories: struct<Struct(primary Utf8, alternate List(Field { name: \"element\", data_type: Utf8, nullable: true, dict_id: 0, dict_is_ordered: false, metadata: {} }))>\n",
       "  confidence: float64<Float64>\n",
       "  websites: list<List(Field { name: \"element\", data_type: Utf8, nullable: true, dict_id: 0, dict_is_ordered: false, metadata: {} })>\n",
       "  socials: list<List(Field { name: \"element\", data_type: Utf8, nullable: true, dict_id: 0, dict_is_ordered: false, metadata: {} })>\n",
       "  emails: list<List(Field { name: \"element\", data_type: Utf8, nullable: true, dict_id: 0, dict_is_ordered: false, metadata: {} })>\n",
       "  phones: list<List(Field { name: \"element\", data_type: Utf8, nullable: true, dict_id: 0, dict_is_ordered: false, metadata: {} })>\n",
       "  brand: struct<Struct(wikidata Utf8, names Struct(primary Utf8, common Map(Field { name: \"key_value\", data_type: Struct([Field { name: \"key\", data_type: Utf8, nullable: false, dict_id: 0, dict_is_ordered: false, metadata: {} }, Field { name: \"value\", data_type: Utf8, nullable: true, dict_id: 0, dict_is_ordered: false, metadata: {} }]), nullable: false, dict_id: 0, dict_is_ordered: false, metadata: {} }, false), rules List(Field { name: \"element\", data_type: Struct([Field { name: \"variant\", data_type: Utf8, nullable: true, dict_id: 0, dict_is_ordered: false, metadata: {} }, Field { name: \"language\", data_type: Utf8, nullable: true, dict_id: 0, dict_is_ordered: false, metadata: {} }, Field { name: \"perspectives\", data_type: Struct([Field { name: \"mode\", data_type: Utf8, nullable: true, dict_id: 0, dict_is_ordered: false, metadata: {} }, Field { name: \"countries\", data_type: List(Field { name: \"element\", data_type: Utf8, nullable: true, dict_id: 0, dict_is_ordered: false, metadata: {} }), nullable: true, dict_id: 0, dict_is_ordered: false, metadata: {} }]), nullable: true, dict_id: 0, dict_is_ordered: false, metadata: {} }, Field { name: \"value\", data_type: Utf8, nullable: true, dict_id: 0, dict_is_ordered: false, metadata: {} }, Field { name: \"between\", data_type: List(Field { name: \"element\", data_type: Float64, nullable: true, dict_id: 0, dict_is_ordered: false, metadata: {} }), nullable: true, dict_id: 0, dict_is_ordered: false, metadata: {} }, Field { name: \"side\", data_type: Utf8, nullable: true, dict_id: 0, dict_is_ordered: false, metadata: {} }]), nullable: true, dict_id: 0, dict_is_ordered: false, metadata: {} })))>\n",
       "  addresses: list<List(Field { name: \"element\", data_type: Struct([Field { name: \"freeform\", data_type: Utf8, nullable: true, dict_id: 0, dict_is_ordered: false, metadata: {} }, Field { name: \"locality\", data_type: Utf8, nullable: true, dict_id: 0, dict_is_ordered: false, metadata: {} }, Field { name: \"postcode\", data_type: Utf8, nullable: true, dict_id: 0, dict_is_ordered: false, metadata: {} }, Field { name: \"region\", data_type: Utf8, nullable: true, dict_id: 0, dict_is_ordered: false, metadata: {} }, Field { name: \"country\", data_type: Utf8, nullable: true, dict_id: 0, dict_is_ordered: false, metadata: {} }]), nullable: true, dict_id: 0, dict_is_ordered: false, metadata: {} })>"
      ]
     },
     "execution_count": 4,
     "metadata": {},
     "output_type": "execute_result"
    }
   ],
   "source": [
    "df.schema"
   ]
  },
  {
   "cell_type": "code",
   "execution_count": 62,
   "id": "7e6c3925-68a3-455d-aded-8748e5e47cd8",
   "metadata": {},
   "outputs": [],
   "source": [
    "df.to_view(\"places\", True)"
   ]
  },
  {
   "cell_type": "code",
   "execution_count": 67,
   "id": "107e530e-51c7-4c17-afa9-9dc5e48250c8",
   "metadata": {},
   "outputs": [],
   "source": [
    "sd.sql(f\"\"\"\n",
    "SELECT \n",
    "    geometry as geom,\n",
    "    addresses[1]['locality'] AS locality\n",
    "FROM places\n",
    "WHERE \n",
    "    categories.primary = '{main_amenity}'\n",
    "    AND addresses[1]['country'] = 'US'\n",
    "\"\"\").to_view(\"main\", True)"
   ]
  },
  {
   "cell_type": "code",
   "execution_count": 68,
   "id": "23252030-88d3-4831-983d-3db6362a3a4e",
   "metadata": {},
   "outputs": [],
   "source": [
    "sd.sql(f\"\"\"\n",
    "SELECT \n",
    "    geometry as geom,\n",
    "    categories.primary AS cat\n",
    "FROM places\n",
    "WHERE \n",
    "    array_has(['day_spa', 'boxing_gym', 'bubble_tea'], categories.primary)\n",
    "    AND addresses[1]['country'] = 'US'\n",
    "\"\"\").to_view(\"amenities\", True)"
   ]
  },
  {
   "cell_type": "code",
   "execution_count": 69,
   "id": "4925c8de-c788-4a51-8c6b-ad7eb0ea7f27",
   "metadata": {},
   "outputs": [
    {
     "name": "stdout",
     "output_type": "stream",
     "text": [
      "┌─────────────────┬────────────────┬───────────────────────────────────┐\n",
      "│ proximity_count ┆    locality    ┆  array_distinct(array_agg(a.cat)) │\n",
      "│      int64      ┆      utf8      ┆                list               │\n",
      "╞═════════════════╪════════════════╪═══════════════════════════════════╡\n",
      "│           39468 ┆ Peoria         ┆ [boxing_gym, bubble_tea, day_spa] │\n",
      "├╌╌╌╌╌╌╌╌╌╌╌╌╌╌╌╌╌┼╌╌╌╌╌╌╌╌╌╌╌╌╌╌╌╌┼╌╌╌╌╌╌╌╌╌╌╌╌╌╌╌╌╌╌╌╌╌╌╌╌╌╌╌╌╌╌╌╌╌╌╌┤\n",
      "│           39441 ┆ Los Angeles    ┆ [boxing_gym, bubble_tea, day_spa] │\n",
      "├╌╌╌╌╌╌╌╌╌╌╌╌╌╌╌╌╌┼╌╌╌╌╌╌╌╌╌╌╌╌╌╌╌╌┼╌╌╌╌╌╌╌╌╌╌╌╌╌╌╌╌╌╌╌╌╌╌╌╌╌╌╌╌╌╌╌╌╌╌╌┤\n",
      "│           26312 ┆ Westminster    ┆ [boxing_gym, bubble_tea, day_spa] │\n",
      "├╌╌╌╌╌╌╌╌╌╌╌╌╌╌╌╌╌┼╌╌╌╌╌╌╌╌╌╌╌╌╌╌╌╌┼╌╌╌╌╌╌╌╌╌╌╌╌╌╌╌╌╌╌╌╌╌╌╌╌╌╌╌╌╌╌╌╌╌╌╌┤\n",
      "│           26312 ┆ New York       ┆ [boxing_gym, bubble_tea, day_spa] │\n",
      "├╌╌╌╌╌╌╌╌╌╌╌╌╌╌╌╌╌┼╌╌╌╌╌╌╌╌╌╌╌╌╌╌╌╌┼╌╌╌╌╌╌╌╌╌╌╌╌╌╌╌╌╌╌╌╌╌╌╌╌╌╌╌╌╌╌╌╌╌╌╌┤\n",
      "│           26312 ┆ Jacksonville   ┆ [boxing_gym, bubble_tea, day_spa] │\n",
      "├╌╌╌╌╌╌╌╌╌╌╌╌╌╌╌╌╌┼╌╌╌╌╌╌╌╌╌╌╌╌╌╌╌╌┼╌╌╌╌╌╌╌╌╌╌╌╌╌╌╌╌╌╌╌╌╌╌╌╌╌╌╌╌╌╌╌╌╌╌╌┤\n",
      "│           26312 ┆ Rehoboth Beach ┆ [boxing_gym, bubble_tea, day_spa] │\n",
      "├╌╌╌╌╌╌╌╌╌╌╌╌╌╌╌╌╌┼╌╌╌╌╌╌╌╌╌╌╌╌╌╌╌╌┼╌╌╌╌╌╌╌╌╌╌╌╌╌╌╌╌╌╌╌╌╌╌╌╌╌╌╌╌╌╌╌╌╌╌╌┤\n",
      "│           26296 ┆ Layton         ┆ [boxing_gym, bubble_tea, day_spa] │\n",
      "├╌╌╌╌╌╌╌╌╌╌╌╌╌╌╌╌╌┼╌╌╌╌╌╌╌╌╌╌╌╌╌╌╌╌┼╌╌╌╌╌╌╌╌╌╌╌╌╌╌╌╌╌╌╌╌╌╌╌╌╌╌╌╌╌╌╌╌╌╌╌┤\n",
      "│           26294 ┆ Spokane        ┆ [boxing_gym, bubble_tea, day_spa] │\n",
      "├╌╌╌╌╌╌╌╌╌╌╌╌╌╌╌╌╌┼╌╌╌╌╌╌╌╌╌╌╌╌╌╌╌╌┼╌╌╌╌╌╌╌╌╌╌╌╌╌╌╌╌╌╌╌╌╌╌╌╌╌╌╌╌╌╌╌╌╌╌╌┤\n",
      "│           26294 ┆ Beverly Hills  ┆ [boxing_gym, bubble_tea, day_spa] │\n",
      "├╌╌╌╌╌╌╌╌╌╌╌╌╌╌╌╌╌┼╌╌╌╌╌╌╌╌╌╌╌╌╌╌╌╌┼╌╌╌╌╌╌╌╌╌╌╌╌╌╌╌╌╌╌╌╌╌╌╌╌╌╌╌╌╌╌╌╌╌╌╌┤\n",
      "│           26294 ┆ Eugene         ┆ [boxing_gym, bubble_tea, day_spa] │\n",
      "└─────────────────┴────────────────┴───────────────────────────────────┘\n"
     ]
    }
   ],
   "source": [
    "sd.sql(f\"\"\"\n",
    "SELECT \n",
    "    COUNT(a.*) AS proximity_count, locality, array_distinct(array_agg(cat)) \n",
    "FROM main g \n",
    "JOIN amenities a ON ST_DWithin(g.geom, a.geom, {dist_in_meters}) \n",
    "group by locality \n",
    "order by 1 DESC \n",
    "\"\"\").show(10)"
   ]
  }
 ],
 "metadata": {
  "kernelspec": {
   "display_name": "Python 3 (ipykernel)",
   "language": "python",
   "name": "python3"
  },
  "language_info": {
   "codemirror_mode": {
    "name": "ipython",
    "version": 3
   },
   "file_extension": ".py",
   "mimetype": "text/x-python",
   "name": "python",
   "nbconvert_exporter": "python",
   "pygments_lexer": "ipython3",
   "version": "3.12.4"
  }
 },
 "nbformat": 4,
 "nbformat_minor": 5
}
