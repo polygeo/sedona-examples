{
 "cells": [
  {
   "cell_type": "markdown",
   "id": "b53fbe39-d464-4303-9a89-62afa8cbb7a9",
   "metadata": {},
   "source": [
    "# New York City Swimming Pools"
   ]
  },
  {
   "cell_type": "code",
   "execution_count": 32,
   "id": "d9056888-02bb-46b2-a1d8-3ae2bf90b558",
   "metadata": {},
   "outputs": [],
   "source": [
    "import sedona.db\n",
    "import os\n",
    "\n",
    "os.environ[\"AWS_SKIP_SIGNATURE\"] = \"true\"\n",
    "os.environ[\"AWS_DEFAULT_REGION\"] = \"us-west-2\"\n",
    "\n",
    "sd = sedona.db.connect()"
   ]
  },
  {
   "cell_type": "code",
   "execution_count": 33,
   "id": "b1f3fa6a-2d9a-432e-aa98-59974c841f91",
   "metadata": {},
   "outputs": [],
   "source": [
    "df = sd.read_parquet(\n",
    "    \"/Users/matthewpowers/data/overture/base_water.parquet\"\n",
    "    # \"s3://overturemaps-us-west-2/release/2025-08-20.0/theme=base/type=water/\"\n",
    ")"
   ]
  },
  {
   "cell_type": "code",
   "execution_count": 34,
   "id": "0574a3cf-00d0-4e6a-9f93-c5a5a2513a12",
   "metadata": {},
   "outputs": [
    {
     "data": {
      "text/plain": [
       "SedonaSchema with 13 fields:\n",
       "  id: utf8<Utf8View>\n",
       "  geometry: geometry<WkbView(ogc:crs84)>\n",
       "  bbox: struct<Struct(xmin Float32, xmax Float32, ymin Float32, ymax Float32)>\n",
       "  version: int32<Int32>\n",
       "  sources: list<List(Field { name: \"element\", data_type: Struct([Field { name: \"property\", data_type: Utf8, nullable: true, dict_id: 0, dict_is_ordered: false, metadata: {} }, Field { name: \"dataset\", data_type: Utf8, nullable: true, dict_id: 0, dict_is_ordered: false, metadata: {} }, Field { name: \"license\", data_type: Utf8, nullable: true, dict_id: 0, dict_is_ordered: false, metadata: {} }, Field { name: \"record_id\", data_type: Utf8, nullable: true, dict_id: 0, dict_is_ordered: false, metadata: {} }, Field { name: \"update_time\", data_type: Utf8, nullable: true, dict_id: 0, dict_is_ordered: false, metadata: {} }, Field { name: \"confidence\", data_type: Float64, nullable: true, dict_id: 0, dict_is_ordered: false, metadata: {} }, Field { name: \"between\", data_type: List(Field { name: \"element\", data_type: Float64, nullable: true, dict_id: 0, dict_is_ordered: false, metadata: {} }), nullable: true, dict_id: 0, dict_is_ordered: false, metadata: {} }]), nullable: true, dict_id: 0, dict_is_ordered: false, metadata: {} })>\n",
       "  level: int32<Int32>\n",
       "  subtype: utf8<Utf8View>\n",
       "  class: utf8<Utf8View>\n",
       "  names: struct<Struct(primary Utf8, common Map(Field { name: \"key_value\", data_type: Struct([Field { name: \"key\", data_type: Utf8, nullable: false, dict_id: 0, dict_is_ordered: false, metadata: {} }, Field { name: \"value\", data_type: Utf8, nullable: true, dict_id: 0, dict_is_ordered: false, metadata: {} }]), nullable: false, dict_id: 0, dict_is_ordered: false, metadata: {} }, false), rules List(Field { name: \"element\", data_type: Struct([Field { name: \"variant\", data_type: Utf8, nullable: true, dict_id: 0, dict_is_ordered: false, metadata: {} }, Field { name: \"language\", data_type: Utf8, nullable: true, dict_id: 0, dict_is_ordered: false, metadata: {} }, Field { name: \"perspectives\", data_type: Struct([Field { name: \"mode\", data_type: Utf8, nullable: true, dict_id: 0, dict_is_ordered: false, metadata: {} }, Field { name: \"countries\", data_type: List(Field { name: \"element\", data_type: Utf8, nullable: true, dict_id: 0, dict_is_ordered: false, metadata: {} }), nullable: true, dict_id: 0, dict_is_ordered: false, metadata: {} }]), nullable: true, dict_id: 0, dict_is_ordered: false, metadata: {} }, Field { name: \"value\", data_type: Utf8, nullable: true, dict_id: 0, dict_is_ordered: false, metadata: {} }, Field { name: \"between\", data_type: List(Field { name: \"element\", data_type: Float64, nullable: true, dict_id: 0, dict_is_ordered: false, metadata: {} }), nullable: true, dict_id: 0, dict_is_ordered: false, metadata: {} }, Field { name: \"side\", data_type: Utf8, nullable: true, dict_id: 0, dict_is_ordered: false, metadata: {} }]), nullable: true, dict_id: 0, dict_is_ordered: false, metadata: {} }))>\n",
       "  source_tags: map<Map(Field { name: \"key_value\", data_type: Struct([Field { name: \"key\", data_type: Utf8, nullable: false, dict_id: 0, dict_is_ordered: false, metadata: {} }, Field { name: \"value\", data_type: Utf8, nullable: true, dict_id: 0, dict_is_ordered: false, metadata: {} }]), nullable: false, dict_id: 0, dict_is_ordered: false, metadata: {} }, false)>\n",
       "  wikidata: utf8<Utf8View>\n",
       "  is_salt: boolean<Boolean>\n",
       "  is_intermittent: boolean<Boolean>"
      ]
     },
     "execution_count": 34,
     "metadata": {},
     "output_type": "execute_result"
    }
   ],
   "source": [
    "df.schema"
   ]
  },
  {
   "cell_type": "code",
   "execution_count": 35,
   "id": "c00cc29e-0d54-453c-9c0d-b17b7aab47b3",
   "metadata": {},
   "outputs": [],
   "source": [
    "df.to_view(\"base_water\", True)"
   ]
  },
  {
   "cell_type": "code",
   "execution_count": 36,
   "id": "3fe481b1-9ce6-4f9c-b40c-9b082ce6f7e7",
   "metadata": {},
   "outputs": [],
   "source": [
    "nyc = \"POLYGON((-74.26 40.50, -74.26 40.92, -73.70 40.92, -73.70 40.50, -74.26 40.50))\"\n",
    "query = f\"\"\"\n",
    "select * from base_water\n",
    "where\n",
    " ST_Within(geometry, ST_SetSRID(ST_GeomFromText('{nyc}'), 4326))\n",
    " and source_tags['leisure'] = 'swimming_pool'\n",
    "\"\"\""
   ]
  },
  {
   "cell_type": "code",
   "execution_count": 37,
   "id": "764bcc54-5e24-4125-979b-f981f076a7c7",
   "metadata": {},
   "outputs": [],
   "source": [
    "res = sd.sql(query)"
   ]
  },
  {
   "cell_type": "code",
   "execution_count": 38,
   "id": "141cc7ed-13ee-4b19-b92e-f708dd8b6155",
   "metadata": {},
   "outputs": [
    {
     "name": "stdout",
     "output_type": "stream",
     "text": [
      "┌──────────────────┬──────────────────┬─────────────────┬───┬──────────┬─────────┬─────────────────┐\n",
      "│        id        ┆     geometry     ┆       bbox      ┆ … ┆ wikidata ┆ is_salt ┆ is_intermittent │\n",
      "│       utf8       ┆     geometry     ┆      struct     ┆   ┆   utf8   ┆ boolean ┆     boolean     │\n",
      "╞══════════════════╪══════════════════╪═════════════════╪═══╪══════════╪═════════╪═════════════════╡\n",
      "│ ca11462b-05f4-3… ┆ POLYGON((-74.24… ┆ {xmin: -74.249… ┆ … ┆          ┆         ┆                 │\n",
      "├╌╌╌╌╌╌╌╌╌╌╌╌╌╌╌╌╌╌┼╌╌╌╌╌╌╌╌╌╌╌╌╌╌╌╌╌╌┼╌╌╌╌╌╌╌╌╌╌╌╌╌╌╌╌╌┼╌╌╌┼╌╌╌╌╌╌╌╌╌╌┼╌╌╌╌╌╌╌╌╌┼╌╌╌╌╌╌╌╌╌╌╌╌╌╌╌╌╌┤\n",
      "│ 88a60910-bf80-3… ┆ POLYGON((-74.24… ┆ {xmin: -74.249… ┆ … ┆          ┆         ┆                 │\n",
      "├╌╌╌╌╌╌╌╌╌╌╌╌╌╌╌╌╌╌┼╌╌╌╌╌╌╌╌╌╌╌╌╌╌╌╌╌╌┼╌╌╌╌╌╌╌╌╌╌╌╌╌╌╌╌╌┼╌╌╌┼╌╌╌╌╌╌╌╌╌╌┼╌╌╌╌╌╌╌╌╌┼╌╌╌╌╌╌╌╌╌╌╌╌╌╌╌╌╌┤\n",
      "│ 7245307f-f19c-3… ┆ POLYGON((-74.24… ┆ {xmin: -74.249… ┆ … ┆          ┆         ┆                 │\n",
      "├╌╌╌╌╌╌╌╌╌╌╌╌╌╌╌╌╌╌┼╌╌╌╌╌╌╌╌╌╌╌╌╌╌╌╌╌╌┼╌╌╌╌╌╌╌╌╌╌╌╌╌╌╌╌╌┼╌╌╌┼╌╌╌╌╌╌╌╌╌╌┼╌╌╌╌╌╌╌╌╌┼╌╌╌╌╌╌╌╌╌╌╌╌╌╌╌╌╌┤\n",
      "│ e1ffc59d-55c2-3… ┆ POLYGON((-74.24… ┆ {xmin: -74.248… ┆ … ┆          ┆         ┆                 │\n",
      "├╌╌╌╌╌╌╌╌╌╌╌╌╌╌╌╌╌╌┼╌╌╌╌╌╌╌╌╌╌╌╌╌╌╌╌╌╌┼╌╌╌╌╌╌╌╌╌╌╌╌╌╌╌╌╌┼╌╌╌┼╌╌╌╌╌╌╌╌╌╌┼╌╌╌╌╌╌╌╌╌┼╌╌╌╌╌╌╌╌╌╌╌╌╌╌╌╌╌┤\n",
      "│ 31ca5d61-4472-3… ┆ POLYGON((-74.24… ┆ {xmin: -74.248… ┆ … ┆          ┆         ┆                 │\n",
      "├╌╌╌╌╌╌╌╌╌╌╌╌╌╌╌╌╌╌┼╌╌╌╌╌╌╌╌╌╌╌╌╌╌╌╌╌╌┼╌╌╌╌╌╌╌╌╌╌╌╌╌╌╌╌╌┼╌╌╌┼╌╌╌╌╌╌╌╌╌╌┼╌╌╌╌╌╌╌╌╌┼╌╌╌╌╌╌╌╌╌╌╌╌╌╌╌╌╌┤\n",
      "│ 9570e59a-19ac-3… ┆ POLYGON((-74.25… ┆ {xmin: -74.252… ┆ … ┆          ┆         ┆                 │\n",
      "├╌╌╌╌╌╌╌╌╌╌╌╌╌╌╌╌╌╌┼╌╌╌╌╌╌╌╌╌╌╌╌╌╌╌╌╌╌┼╌╌╌╌╌╌╌╌╌╌╌╌╌╌╌╌╌┼╌╌╌┼╌╌╌╌╌╌╌╌╌╌┼╌╌╌╌╌╌╌╌╌┼╌╌╌╌╌╌╌╌╌╌╌╌╌╌╌╌╌┤\n",
      "│ d47cd871-3003-3… ┆ POLYGON((-74.25… ┆ {xmin: -74.252… ┆ … ┆          ┆         ┆                 │\n",
      "├╌╌╌╌╌╌╌╌╌╌╌╌╌╌╌╌╌╌┼╌╌╌╌╌╌╌╌╌╌╌╌╌╌╌╌╌╌┼╌╌╌╌╌╌╌╌╌╌╌╌╌╌╌╌╌┼╌╌╌┼╌╌╌╌╌╌╌╌╌╌┼╌╌╌╌╌╌╌╌╌┼╌╌╌╌╌╌╌╌╌╌╌╌╌╌╌╌╌┤\n",
      "│ f41bab3c-9472-3… ┆ POLYGON((-74.25… ┆ {xmin: -74.252… ┆ … ┆          ┆         ┆                 │\n",
      "├╌╌╌╌╌╌╌╌╌╌╌╌╌╌╌╌╌╌┼╌╌╌╌╌╌╌╌╌╌╌╌╌╌╌╌╌╌┼╌╌╌╌╌╌╌╌╌╌╌╌╌╌╌╌╌┼╌╌╌┼╌╌╌╌╌╌╌╌╌╌┼╌╌╌╌╌╌╌╌╌┼╌╌╌╌╌╌╌╌╌╌╌╌╌╌╌╌╌┤\n",
      "│ 0fca0d0d-f81b-3… ┆ POLYGON((-74.25… ┆ {xmin: -74.251… ┆ … ┆          ┆         ┆                 │\n",
      "├╌╌╌╌╌╌╌╌╌╌╌╌╌╌╌╌╌╌┼╌╌╌╌╌╌╌╌╌╌╌╌╌╌╌╌╌╌┼╌╌╌╌╌╌╌╌╌╌╌╌╌╌╌╌╌┼╌╌╌┼╌╌╌╌╌╌╌╌╌╌┼╌╌╌╌╌╌╌╌╌┼╌╌╌╌╌╌╌╌╌╌╌╌╌╌╌╌╌┤\n",
      "│ 4a44ca22-589b-3… ┆ POLYGON((-74.25… ┆ {xmin: -74.251… ┆ … ┆          ┆         ┆                 │\n",
      "└──────────────────┴──────────────────┴─────────────────┴───┴──────────┴─────────┴─────────────────┘\n"
     ]
    }
   ],
   "source": [
    "res.show()"
   ]
  },
  {
   "cell_type": "code",
   "execution_count": 39,
   "id": "2d1bce86-62f0-4fac-8b29-cecdba408fff",
   "metadata": {
    "scrolled": true
   },
   "outputs": [
    {
     "data": {
      "text/plain": [
       "48976"
      ]
     },
     "execution_count": 39,
     "metadata": {},
     "output_type": "execute_result"
    }
   ],
   "source": [
    "res.count()"
   ]
  },
  {
   "cell_type": "code",
   "execution_count": 40,
   "id": "ed609f1a-7abf-4ffa-aeef-e0c85acfb177",
   "metadata": {},
   "outputs": [],
   "source": [
    "from lonboard import viz"
   ]
  },
  {
   "cell_type": "code",
   "execution_count": 41,
   "id": "3c0ebb69-2d32-455a-8d1c-6e2d5da2998c",
   "metadata": {},
   "outputs": [
    {
     "data": {
      "application/vnd.jupyter.widget-view+json": {
       "model_id": "adb5e963190f488b98172c2410fdbaf8",
       "version_major": 2,
       "version_minor": 1
      },
      "text/plain": [
       "Map(basemap_style=<CartoBasemap.DarkMatter: 'https://basemaps.cartocdn.com/gl/dark-matter-gl-style/style.json'…"
      ]
     },
     "execution_count": 41,
     "metadata": {},
     "output_type": "execute_result"
    }
   ],
   "source": [
    "viz(res)"
   ]
  },
  {
   "cell_type": "markdown",
   "id": "9c3e940e-33a9-4034-b833-2eecf0840844",
   "metadata": {},
   "source": [
    "## todo\n",
    "\n",
    "figure it out if I can figure out a way to make the dots bigger in the map"
   ]
  },
  {
   "cell_type": "code",
   "execution_count": 19,
   "id": "27a4fad3-cc2e-47bf-ab47-bc924fc994b4",
   "metadata": {},
   "outputs": [
    {
     "name": "stderr",
     "output_type": "stream",
     "text": [
      "/var/folders/rg/q_yx8y8n14db7cnn4382r6kh0000gn/T/ipykernel_87274/3326610380.py:5: UserWarning: Geometry is in a geographic CRS. Results from 'centroid' are likely incorrect. Use 'GeoSeries.to_crs()' to re-project geometries to a projected CRS before this operation.\n",
      "\n",
      "  res_points['geometry'] = res_points.geometry.centroid\n"
     ]
    }
   ],
   "source": [
    "from lonboard import Map, ScatterplotLayer\n",
    "\n",
    "res_pd = res.to_pandas()\n",
    "res_points = res_pd.copy()\n",
    "res_points['geometry'] = res_points.geometry.centroid"
   ]
  },
  {
   "cell_type": "code",
   "execution_count": 20,
   "id": "ba802107-4d24-4408-9203-9ccec611ca37",
   "metadata": {},
   "outputs": [
    {
     "data": {
      "text/plain": [
       "48976"
      ]
     },
     "execution_count": 20,
     "metadata": {},
     "output_type": "execute_result"
    }
   ],
   "source": [
    "len(res_points)"
   ]
  },
  {
   "cell_type": "code",
   "execution_count": 21,
   "id": "d7adefb6-a649-4c4a-9f85-24c77c63b34b",
   "metadata": {},
   "outputs": [
    {
     "data": {
      "application/vnd.jupyter.widget-view+json": {
       "model_id": "b01aed94d271487fba62be125a3d9fcb",
       "version_major": 2,
       "version_minor": 1
      },
      "text/plain": [
       "Map(custom_attribution='', layers=(ScatterplotLayer(get_radius=100.0, table=arro3.core.Table\n",
       "+----------------…"
      ]
     },
     "execution_count": 21,
     "metadata": {},
     "output_type": "execute_result"
    }
   ],
   "source": [
    "layer = ScatterplotLayer.from_geopandas(\n",
    "    points_only,\n",
    "    get_radius=100,  # Adjust this value to make dots bigger\n",
    ")\n",
    "\n",
    "map = Map(layers=[layer])\n",
    "map"
   ]
  },
  {
   "cell_type": "code",
   "execution_count": null,
   "id": "f0d57d3c-4e3c-4573-9e89-ca97cc3771fa",
   "metadata": {},
   "outputs": [],
   "source": []
  }
 ],
 "metadata": {
  "kernelspec": {
   "display_name": "Python 3 (ipykernel)",
   "language": "python",
   "name": "python3"
  },
  "language_info": {
   "codemirror_mode": {
    "name": "ipython",
    "version": 3
   },
   "file_extension": ".py",
   "mimetype": "text/x-python",
   "name": "python",
   "nbconvert_exporter": "python",
   "pygments_lexer": "ipython3",
   "version": "3.12.4"
  }
 },
 "nbformat": 4,
 "nbformat_minor": 5
}
