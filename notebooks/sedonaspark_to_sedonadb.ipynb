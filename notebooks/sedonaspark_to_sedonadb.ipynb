{
 "cells": [
  {
   "cell_type": "markdown",
   "id": "bec7d440-6ae2-4bb7-b66a-fa3ac4f4c486",
   "metadata": {},
   "source": [
    "# SedonaSpark => SedonaDB\n",
    "\n",
    "This notebook shows how to convert a SedonaSpark DataFrame to a SedonaDB DataFrame.\n",
    "\n",
    "You can convert the SedonaSpark DataFrame to an arrow table and then create the SedonaDB DataFrame from the arrow table.\n",
    "\n",
    "SedonaSpark is normally run on a cluster and collecting the results in an arrow table puts all the data on the driver node.  This will result in an out of memory exception if the dataset is too large to fit on the driver node."
   ]
  },
  {
   "cell_type": "markdown",
   "id": "27dd1b27-b625-425e-be0c-09d7543747bd",
   "metadata": {},
   "source": [
    "## Create the Spark DataFrame"
   ]
  },
  {
   "cell_type": "code",
   "execution_count": 7,
   "id": "c8405c88-75e6-4123-8b5f-7a81217978d0",
   "metadata": {},
   "outputs": [],
   "source": [
    "from sedona.spark import *\n",
    "from pyspark.sql.functions import col"
   ]
  },
  {
   "cell_type": "code",
   "execution_count": 15,
   "id": "25761a5b-073e-4cc1-83eb-7490055ef2a9",
   "metadata": {
    "scrolled": true
   },
   "outputs": [
    {
     "name": "stderr",
     "output_type": "stream",
     "text": [
      "25/09/28 10:31:18 WARN UDTRegistration: Cannot register UDT for org.geotools.coverage.grid.GridCoverage2D, which is already registered.\n",
      "25/09/28 10:31:18 WARN SimpleFunctionRegistry: The function rs_union_aggr replaced a previously registered function.\n",
      "25/09/28 10:31:18 WARN UDTRegistration: Cannot register UDT for org.locationtech.jts.geom.Geometry, which is already registered.\n",
      "25/09/28 10:31:18 WARN UDTRegistration: Cannot register UDT for org.apache.sedona.common.geometryObjects.Geography, which is already registered.\n",
      "25/09/28 10:31:18 WARN UDTRegistration: Cannot register UDT for org.locationtech.jts.index.SpatialIndex, which is already registered.\n",
      "25/09/28 10:31:18 WARN SimpleFunctionRegistry: The function st_envelope_aggr replaced a previously registered function.\n",
      "25/09/28 10:31:18 WARN SimpleFunctionRegistry: The function st_intersection_aggr replaced a previously registered function.\n",
      "25/09/28 10:31:18 WARN SimpleFunctionRegistry: The function st_union_aggr replaced a previously registered function.\n"
     ]
    }
   ],
   "source": [
    "config = (\n",
    "    SedonaContext.builder()\n",
    "    .config(\n",
    "        \"spark.jars.packages\",\n",
    "        \"org.apache.sedona:sedona-spark-3.5_2.12:1.7.1,\"\n",
    "        \"org.datasyslab:geotools-wrapper:1.7.1-28.5\",\n",
    "    )\n",
    "    .config(\n",
    "        \"spark.jars.repositories\",\n",
    "        \"https://artifacts.unidata.ucar.edu/repository/unidata-all\",\n",
    "    )\n",
    "    .config(\"spark.executor.memory\", \"12G\")\n",
    "    .config(\"spark.driver.memory\", \"12G\")\n",
    "    .config(\"spark.sql.shuffle.partitions\", \"2\")\n",
    "    .getOrCreate()\n",
    ")\n",
    "\n",
    "sedona = SedonaContext.create(config)"
   ]
  },
  {
   "cell_type": "code",
   "execution_count": 8,
   "id": "efc1cf6e-7fe4-472c-a4b8-8a31accac303",
   "metadata": {},
   "outputs": [],
   "source": [
    "spark_df = sedona.createDataFrame(\n",
    "    [\n",
    "        (\"a\", \"LINESTRING(2.0 5.0,6.0 1.0)\"),\n",
    "        (\"b\", \"POINT(1.0 2.0)\"),\n",
    "        (\"c\", \"POLYGON((7.0 1.0,7.0 3.0,9.0 3.0,7.0 1.0))\"),\n",
    "    ],\n",
    "    [\"id\", \"geometry\"],\n",
    ").withColumn(\"geometry\", ST_GeomFromText(col(\"geometry\")))"
   ]
  },
  {
   "cell_type": "code",
   "execution_count": 9,
   "id": "84511c9c-47a7-4447-88a1-0046fa4bf133",
   "metadata": {},
   "outputs": [
    {
     "data": {
      "text/plain": [
       "pyspark.sql.dataframe.DataFrame"
      ]
     },
     "execution_count": 9,
     "metadata": {},
     "output_type": "execute_result"
    }
   ],
   "source": [
    "type(spark_df)"
   ]
  },
  {
   "cell_type": "markdown",
   "id": "2adf1a03-a087-47b4-a581-d3cc7af282af",
   "metadata": {},
   "source": [
    "## Convert the Spark DataFrame to a SedonaDB DataFrame"
   ]
  },
  {
   "cell_type": "code",
   "execution_count": 10,
   "id": "8fcff923-c6bf-49c8-a0c7-0d6a58f46c18",
   "metadata": {},
   "outputs": [],
   "source": [
    "import sedona.db\n",
    "sd = sedona.db.connect()"
   ]
  },
  {
   "cell_type": "code",
   "execution_count": 11,
   "id": "5f9d6371-ae01-4ead-af5e-c4fac45be3cb",
   "metadata": {},
   "outputs": [],
   "source": [
    "df = sd.create_data_frame(dataframe_to_arrow(spark_df))"
   ]
  },
  {
   "cell_type": "code",
   "execution_count": 12,
   "id": "9572f189-4266-4618-b931-0c3e8e9d0546",
   "metadata": {},
   "outputs": [
    {
     "name": "stdout",
     "output_type": "stream",
     "text": [
      "┌──────┬────────────────────────────┐\n",
      "│  id  ┆          geometry          │\n",
      "│ utf8 ┆          geometry          │\n",
      "╞══════╪════════════════════════════╡\n",
      "│ a    ┆ LINESTRING(2 5,6 1)        │\n",
      "├╌╌╌╌╌╌┼╌╌╌╌╌╌╌╌╌╌╌╌╌╌╌╌╌╌╌╌╌╌╌╌╌╌╌╌┤\n",
      "│ b    ┆ POINT(1 2)                 │\n",
      "├╌╌╌╌╌╌┼╌╌╌╌╌╌╌╌╌╌╌╌╌╌╌╌╌╌╌╌╌╌╌╌╌╌╌╌┤\n",
      "│ c    ┆ POLYGON((7 1,7 3,9 3,7 1)) │\n",
      "└──────┴────────────────────────────┘\n"
     ]
    }
   ],
   "source": [
    "df.show()"
   ]
  },
  {
   "cell_type": "code",
   "execution_count": 13,
   "id": "367e6732-3c81-4c17-81c2-620845aee823",
   "metadata": {},
   "outputs": [
    {
     "data": {
      "text/plain": [
       "SedonaSchema with 2 fields:\n",
       "  id: utf8<Utf8>\n",
       "  geometry: geometry<Wkb>"
      ]
     },
     "execution_count": 13,
     "metadata": {},
     "output_type": "execute_result"
    }
   ],
   "source": [
    "df.schema"
   ]
  },
  {
   "cell_type": "code",
   "execution_count": 14,
   "id": "a6f267f1-589a-40a1-b537-795c61719acb",
   "metadata": {},
   "outputs": [
    {
     "data": {
      "text/plain": [
       "sedonadb.dataframe.DataFrame"
      ]
     },
     "execution_count": 14,
     "metadata": {},
     "output_type": "execute_result"
    }
   ],
   "source": [
    "type(df)"
   ]
  }
 ],
 "metadata": {
  "kernelspec": {
   "display_name": "Python 3 (ipykernel)",
   "language": "python",
   "name": "python3"
  },
  "language_info": {
   "codemirror_mode": {
    "name": "ipython",
    "version": 3
   },
   "file_extension": ".py",
   "mimetype": "text/x-python",
   "name": "python",
   "nbconvert_exporter": "python",
   "pygments_lexer": "ipython3",
   "version": "3.12.4"
  }
 },
 "nbformat": 4,
 "nbformat_minor": 5
}
