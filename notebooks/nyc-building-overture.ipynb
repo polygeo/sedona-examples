{
 "cells": [
  {
   "cell_type": "markdown",
   "id": "8239e8eb-724c-44df-b651-c2dd02f1d96c",
   "metadata": {},
   "source": [
    "<!---\n",
    "  Licensed to the Apache Software Foundation (ASF) under one\n",
    "  or more contributor license agreements.  See the NOTICE file\n",
    "  distributed with this work for additional information\n",
    "  regarding copyright ownership.  The ASF licenses this file\n",
    "  to you under the Apache License, Version 2.0 (the\n",
    "  \"License\"); you may not use this file except in compliance\n",
    "  with the License.  You may obtain a copy of the License at\n",
    "\n",
    "    http://www.apache.org/licenses/LICENSE-2.0\n",
    "\n",
    "  Unless required by applicable law or agreed to in writing,\n",
    "  software distributed under the License is distributed on an\n",
    "  \"AS IS\" BASIS, WITHOUT WARRANTIES OR CONDITIONS OF ANY\n",
    "  KIND, either express or implied.  See the License for the\n",
    "  specific language governing permissions and limitations\n",
    "  under the License.\n",
    "-->\n",
    "\n",
    "# Analyze Building Height Data Using SedonaDB\n",
    "\n",
    "> **Note:** Before running this notebook, ensure that you have installed SedonaDB: `pip install \"apache-sedona[db]\"` and lonboard for visualization (`pip install lonboard`)\n",
    "\n",
    "Let's query the Overture Maps buildings using SedonaDB, \n",
    "\n",
    "This notebook shows you how to pull the data\n",
    "straight from S3, run a spatial query to find buildings in a specific area, and cache the results to make future queries fly.\n",
    "We even timed it, so you can see just how fast this process is."
   ]
  },
  {
   "cell_type": "code",
   "execution_count": 1,
   "id": "6d6fa0ab-b4ed-4e60-b099-a1af0998b486",
   "metadata": {},
   "outputs": [],
   "source": [
    "import sedona.db\n",
    "import os\n",
    "import time\n",
    "import lonboard\n",
    "from lonboard import ScatterplotLayer\n",
    "import geopandas as gpd\n",
    "\n",
    "\n",
    "start_time = time.time()\n",
    "\n",
    "os.environ[\"AWS_SKIP_SIGNATURE\"] = \"true\"\n",
    "os.environ[\"AWS_DEFAULT_REGION\"] = \"us-west-2\"\n",
    "\n",
    "sd = sedona.db.connect()"
   ]
  },
  {
   "cell_type": "markdown",
   "id": "4f44adfb-2973-4a65-b4f2-d24b28700b79",
   "metadata": {},
   "source": [
    "## Read the Overture buildings table"
   ]
  },
  {
   "cell_type": "code",
   "execution_count": 2,
   "id": "52855769-4872-472a-9c42-afced3d85ca8",
   "metadata": {},
   "outputs": [],
   "source": [
    "df = sd.read_parquet(\n",
    "    \"s3://overturemaps-us-west-2/release/2025-08-20.0/theme=buildings/type=building/\"\n",
    ")"
   ]
  },
  {
   "cell_type": "code",
   "execution_count": 3,
   "id": "b45b5e5c-64ed-49ba-a8aa-9f2292f617c6",
   "metadata": {},
   "outputs": [
    {
     "name": "stdout",
     "output_type": "stream",
     "text": [
      "┌──────────────────────────────────────┬─────────────────────────────────────────┬───┬─────────────┐\n",
      "│                  id                  ┆                 geometry                ┆ … ┆ roof_height │\n",
      "│                 utf8                 ┆                 geometry                ┆   ┆   float64   │\n",
      "╞══════════════════════════════════════╪═════════════════════════════════════════╪═══╪═════════════╡\n",
      "│ 191fdf3f-5b11-4502-9f16-945b9e10b243 ┆ POLYGON((-38.106124 -7.8342091,-38.106… ┆ … ┆             │\n",
      "├╌╌╌╌╌╌╌╌╌╌╌╌╌╌╌╌╌╌╌╌╌╌╌╌╌╌╌╌╌╌╌╌╌╌╌╌╌╌┼╌╌╌╌╌╌╌╌╌╌╌╌╌╌╌╌╌╌╌╌╌╌╌╌╌╌╌╌╌╌╌╌╌╌╌╌╌╌╌╌╌┼╌╌╌┼╌╌╌╌╌╌╌╌╌╌╌╌╌┤\n",
      "│ 595ca384-3b50-4374-a8fc-fea35fb6b925 ┆ POLYGON((-38.1058584 -7.8341091,-38.10… ┆ … ┆             │\n",
      "├╌╌╌╌╌╌╌╌╌╌╌╌╌╌╌╌╌╌╌╌╌╌╌╌╌╌╌╌╌╌╌╌╌╌╌╌╌╌┼╌╌╌╌╌╌╌╌╌╌╌╌╌╌╌╌╌╌╌╌╌╌╌╌╌╌╌╌╌╌╌╌╌╌╌╌╌╌╌╌╌┼╌╌╌┼╌╌╌╌╌╌╌╌╌╌╌╌╌┤\n",
      "│ c154043b-748f-41a9-91b8-5c7ee3a1f4f6 ┆ POLYGON((-38.1059839 -7.8340572,-38.10… ┆ … ┆             │\n",
      "├╌╌╌╌╌╌╌╌╌╌╌╌╌╌╌╌╌╌╌╌╌╌╌╌╌╌╌╌╌╌╌╌╌╌╌╌╌╌┼╌╌╌╌╌╌╌╌╌╌╌╌╌╌╌╌╌╌╌╌╌╌╌╌╌╌╌╌╌╌╌╌╌╌╌╌╌╌╌╌╌┼╌╌╌┼╌╌╌╌╌╌╌╌╌╌╌╌╌┤\n",
      "│ 7ae24b5f-ec1b-484c-b0a5-78ee47c66918 ┆ POLYGON((-38.1057017 -7.834233,-38.105… ┆ … ┆             │\n",
      "├╌╌╌╌╌╌╌╌╌╌╌╌╌╌╌╌╌╌╌╌╌╌╌╌╌╌╌╌╌╌╌╌╌╌╌╌╌╌┼╌╌╌╌╌╌╌╌╌╌╌╌╌╌╌╌╌╌╌╌╌╌╌╌╌╌╌╌╌╌╌╌╌╌╌╌╌╌╌╌╌┼╌╌╌┼╌╌╌╌╌╌╌╌╌╌╌╌╌┤\n",
      "│ b102652a-eecb-4186-ab82-bf897140f45a ┆ POLYGON((-38.1050418 -7.8343297,-38.10… ┆ … ┆             │\n",
      "├╌╌╌╌╌╌╌╌╌╌╌╌╌╌╌╌╌╌╌╌╌╌╌╌╌╌╌╌╌╌╌╌╌╌╌╌╌╌┼╌╌╌╌╌╌╌╌╌╌╌╌╌╌╌╌╌╌╌╌╌╌╌╌╌╌╌╌╌╌╌╌╌╌╌╌╌╌╌╌╌┼╌╌╌┼╌╌╌╌╌╌╌╌╌╌╌╌╌┤\n",
      "│ 33d38360-fd4e-4af3-95e3-20f786bfe8a3 ┆ POLYGON((-38.1047993 -7.8344059,-38.10… ┆ … ┆             │\n",
      "├╌╌╌╌╌╌╌╌╌╌╌╌╌╌╌╌╌╌╌╌╌╌╌╌╌╌╌╌╌╌╌╌╌╌╌╌╌╌┼╌╌╌╌╌╌╌╌╌╌╌╌╌╌╌╌╌╌╌╌╌╌╌╌╌╌╌╌╌╌╌╌╌╌╌╌╌╌╌╌╌┼╌╌╌┼╌╌╌╌╌╌╌╌╌╌╌╌╌┤\n",
      "│ 5c01d9a8-738b-4476-9f0c-f4d11602c1cf ┆ POLYGON((-38.105067 -7.8342714,-38.105… ┆ … ┆             │\n",
      "├╌╌╌╌╌╌╌╌╌╌╌╌╌╌╌╌╌╌╌╌╌╌╌╌╌╌╌╌╌╌╌╌╌╌╌╌╌╌┼╌╌╌╌╌╌╌╌╌╌╌╌╌╌╌╌╌╌╌╌╌╌╌╌╌╌╌╌╌╌╌╌╌╌╌╌╌╌╌╌╌┼╌╌╌┼╌╌╌╌╌╌╌╌╌╌╌╌╌┤\n",
      "│ 8a538560-f644-41ba-99b5-25026526a07b ┆ POLYGON((-38.104954 -7.8342115,-38.104… ┆ … ┆             │\n",
      "├╌╌╌╌╌╌╌╌╌╌╌╌╌╌╌╌╌╌╌╌╌╌╌╌╌╌╌╌╌╌╌╌╌╌╌╌╌╌┼╌╌╌╌╌╌╌╌╌╌╌╌╌╌╌╌╌╌╌╌╌╌╌╌╌╌╌╌╌╌╌╌╌╌╌╌╌╌╌╌╌┼╌╌╌┼╌╌╌╌╌╌╌╌╌╌╌╌╌┤\n",
      "│ 1bb2c96e-8130-4f6f-b177-4a112d28240b ┆ POLYGON((-38.1050208 -7.8341139,-38.10… ┆ … ┆             │\n",
      "├╌╌╌╌╌╌╌╌╌╌╌╌╌╌╌╌╌╌╌╌╌╌╌╌╌╌╌╌╌╌╌╌╌╌╌╌╌╌┼╌╌╌╌╌╌╌╌╌╌╌╌╌╌╌╌╌╌╌╌╌╌╌╌╌╌╌╌╌╌╌╌╌╌╌╌╌╌╌╌╌┼╌╌╌┼╌╌╌╌╌╌╌╌╌╌╌╌╌┤\n",
      "│ d66583a4-cc56-4d1c-b2df-3a7b2f869e55 ┆ POLYGON((-38.1048865 -7.8340854,-38.10… ┆ … ┆             │\n",
      "└──────────────────────────────────────┴─────────────────────────────────────────┴───┴─────────────┘\n"
     ]
    }
   ],
   "source": [
    "df.limit(10).show()"
   ]
  },
  {
   "cell_type": "code",
   "execution_count": 4,
   "id": "e37a023e-0e80-403a-a65b-b5a190004f72",
   "metadata": {},
   "outputs": [],
   "source": [
    "df.to_view(\"buildings\")"
   ]
  },
  {
   "cell_type": "code",
   "execution_count": 5,
   "id": "ebfe4776-e08f-4f38-97fc-fca8ec6fc364",
   "metadata": {},
   "outputs": [
    {
     "name": "stdout",
     "output_type": "stream",
     "text": [
      "┌────────────┐\n",
      "│  count(*)  │\n",
      "│    int64   │\n",
      "╞════════════╡\n",
      "│ 2539170484 │\n",
      "└────────────┘\n"
     ]
    }
   ],
   "source": [
    "# the buildings contains billions of rows\n",
    "sd.sql(\"\"\"\n",
    "SELECT\n",
    "    COUNT(*)\n",
    "FROM\n",
    "    buildings\n",
    "\"\"\").show()"
   ]
  },
  {
   "cell_type": "code",
   "execution_count": 6,
   "id": "b73f670d-0d10-4a7a-bfc7-e2abe5d9edd2",
   "metadata": {},
   "outputs": [
    {
     "data": {
      "text/plain": [
       "SedonaSchema with 24 fields:\n",
       "  id: utf8<Utf8View>\n",
       "  geometry: geometry<WkbView(ogc:crs84)>\n",
       "  bbox: struct<Struct(xmin Float32, xmax Float32, ymin Float32, ymax Float32)>\n",
       "  version: int32<Int32>\n",
       "  sources: list<List(Field { name: \"element\", data_type: Struct([Field { name: \"property\", data_type: Utf8, nullable: true, dict_id: 0, dict_is_ordered: false, metadata: {} }, Field { name: \"dataset\", data_type: Utf8, nullable: true, dict_id: 0, dict_is_ordered: false, metadata: {} }, Field { name: \"record_id\", data_type: Utf8, nullable: true, dict_id: 0, dict_is_ordered: false, metadata: {} }, Field { name: \"update_time\", data_type: Utf8, nullable: true, dict_id: 0, dict_is_ordered: false, metadata: {} }, Field { name: \"confidence\", data_type: Float64, nullable: true, dict_id: 0, dict_is_ordered: false, metadata: {} }, Field { name: \"between\", data_type: List(Field { name: \"element\", data_type: Float64, nullable: true, dict_id: 0, dict_is_ordered: false, metadata: {} }), nullable: true, dict_id: 0, dict_is_ordered: false, metadata: {} }]), nullable: true, dict_id: 0, dict_is_ordered: false, metadata: {} })>\n",
       "  level: int32<Int32>\n",
       "  subtype: utf8<Utf8View>\n",
       "  class: utf8<Utf8View>\n",
       "  height: float64<Float64>\n",
       "  names: struct<Struct(primary Utf8, common Map(Field { name: \"key_value\", data_type: Struct([Field { name: \"key\", data_type: Utf8, nullable: false, dict_id: 0, dict_is_ordered: false, metadata: {} }, Field { name: \"value\", data_type: Utf8, nullable: true, dict_id: 0, dict_is_ordered: false, metadata: {} }]), nullable: false, dict_id: 0, dict_is_ordered: false, metadata: {} }, false), rules List(Field { name: \"element\", data_type: Struct([Field { name: \"variant\", data_type: Utf8, nullable: true, dict_id: 0, dict_is_ordered: false, metadata: {} }, Field { name: \"language\", data_type: Utf8, nullable: true, dict_id: 0, dict_is_ordered: false, metadata: {} }, Field { name: \"perspectives\", data_type: Struct([Field { name: \"mode\", data_type: Utf8, nullable: true, dict_id: 0, dict_is_ordered: false, metadata: {} }, Field { name: \"countries\", data_type: List(Field { name: \"element\", data_type: Utf8, nullable: true, dict_id: 0, dict_is_ordered: false, metadata: {} }), nullable: true, dict_id: 0, dict_is_ordered: false, metadata: {} }]), nullable: true, dict_id: 0, dict_is_ordered: false, metadata: {} }, Field { name: \"value\", data_type: Utf8, nullable: true, dict_id: 0, dict_is_ordered: false, metadata: {} }, Field { name: \"between\", data_type: List(Field { name: \"element\", data_type: Float64, nullable: true, dict_id: 0, dict_is_ordered: false, metadata: {} }), nullable: true, dict_id: 0, dict_is_ordered: false, metadata: {} }, Field { name: \"side\", data_type: Utf8, nullable: true, dict_id: 0, dict_is_ordered: false, metadata: {} }]), nullable: true, dict_id: 0, dict_is_ordered: false, metadata: {} }))>\n",
       "  has_parts: boolean<Boolean>\n",
       "  is_underground: boolean<Boolean>\n",
       "  num_floors: int32<Int32>\n",
       "  num_floors_underground: int32<Int32>\n",
       "  min_height: float64<Float64>\n",
       "  min_floor: int32<Int32>\n",
       "  facade_color: utf8<Utf8View>\n",
       "  facade_material: utf8<Utf8View>\n",
       "  roof_material: utf8<Utf8View>\n",
       "  roof_shape: utf8<Utf8View>\n",
       "  roof_direction: float64<Float64>\n",
       "  roof_orientation: utf8<Utf8View>\n",
       "  roof_color: utf8<Utf8View>\n",
       "  roof_height: float64<Float64>"
      ]
     },
     "execution_count": 6,
     "metadata": {},
     "output_type": "execute_result"
    }
   ],
   "source": [
    "# check out the schema of the buildings table to see what it contains\n",
    "df.schema"
   ]
  },
  {
   "cell_type": "code",
   "execution_count": 7,
   "id": "95c3fdb8",
   "metadata": {},
   "outputs": [
    {
     "name": "stdout",
     "output_type": "stream",
     "text": [
      "┌──────────────────────────────────────┬──────────────────┬────────────────────────────────────────┐\n",
      "│                  id                  ┆      height      ┆                centroid                │\n",
      "│                 utf8                 ┆      float64     ┆                geometry                │\n",
      "╞══════════════════════════════════════╪══════════════════╪════════════════════════════════════════╡\n",
      "│ 8767e34c-e994-4242-99ff-412557349e74 ┆ 28.8121337890625 ┆ POINT(-79.07069732487484 42.407732154… │\n",
      "├╌╌╌╌╌╌╌╌╌╌╌╌╌╌╌╌╌╌╌╌╌╌╌╌╌╌╌╌╌╌╌╌╌╌╌╌╌╌┼╌╌╌╌╌╌╌╌╌╌╌╌╌╌╌╌╌╌┼╌╌╌╌╌╌╌╌╌╌╌╌╌╌╌╌╌╌╌╌╌╌╌╌╌╌╌╌╌╌╌╌╌╌╌╌╌╌╌╌┤\n",
      "│ 2012dcc1-f86f-4302-8b0d-fc116f19aac5 ┆             39.0 ┆ POINT(-79.04404983085891 42.591615215… │\n",
      "├╌╌╌╌╌╌╌╌╌╌╌╌╌╌╌╌╌╌╌╌╌╌╌╌╌╌╌╌╌╌╌╌╌╌╌╌╌╌┼╌╌╌╌╌╌╌╌╌╌╌╌╌╌╌╌╌╌┼╌╌╌╌╌╌╌╌╌╌╌╌╌╌╌╌╌╌╌╌╌╌╌╌╌╌╌╌╌╌╌╌╌╌╌╌╌╌╌╌┤\n",
      "│ b42805a6-5c4f-47ee-8fce-2f410a963f9c ┆             39.0 ┆ POINT(-79.04407143877077 42.592186224… │\n",
      "├╌╌╌╌╌╌╌╌╌╌╌╌╌╌╌╌╌╌╌╌╌╌╌╌╌╌╌╌╌╌╌╌╌╌╌╌╌╌┼╌╌╌╌╌╌╌╌╌╌╌╌╌╌╌╌╌╌┼╌╌╌╌╌╌╌╌╌╌╌╌╌╌╌╌╌╌╌╌╌╌╌╌╌╌╌╌╌╌╌╌╌╌╌╌╌╌╌╌┤\n",
      "│ b842cc4f-25ea-4eaa-9f4e-2232eaf1a218 ┆             22.0 ┆ POINT(-78.86290520310608 42.767738864… │\n",
      "├╌╌╌╌╌╌╌╌╌╌╌╌╌╌╌╌╌╌╌╌╌╌╌╌╌╌╌╌╌╌╌╌╌╌╌╌╌╌┼╌╌╌╌╌╌╌╌╌╌╌╌╌╌╌╌╌╌┼╌╌╌╌╌╌╌╌╌╌╌╌╌╌╌╌╌╌╌╌╌╌╌╌╌╌╌╌╌╌╌╌╌╌╌╌╌╌╌╌┤\n",
      "│ 90c1d7d2-dd01-4ecc-bad8-b713ed9af95b ┆             22.0 ┆ POINT(-78.8630597871449 42.7681307292… │\n",
      "├╌╌╌╌╌╌╌╌╌╌╌╌╌╌╌╌╌╌╌╌╌╌╌╌╌╌╌╌╌╌╌╌╌╌╌╌╌╌┼╌╌╌╌╌╌╌╌╌╌╌╌╌╌╌╌╌╌┼╌╌╌╌╌╌╌╌╌╌╌╌╌╌╌╌╌╌╌╌╌╌╌╌╌╌╌╌╌╌╌╌╌╌╌╌╌╌╌╌┤\n",
      "│ 17c8b942-2aa5-4d19-9a18-517020079a5a ┆             25.0 ┆ POINT(-78.84664199943091 42.796699150… │\n",
      "├╌╌╌╌╌╌╌╌╌╌╌╌╌╌╌╌╌╌╌╌╌╌╌╌╌╌╌╌╌╌╌╌╌╌╌╌╌╌┼╌╌╌╌╌╌╌╌╌╌╌╌╌╌╌╌╌╌┼╌╌╌╌╌╌╌╌╌╌╌╌╌╌╌╌╌╌╌╌╌╌╌╌╌╌╌╌╌╌╌╌╌╌╌╌╌╌╌╌┤\n",
      "│ 9b82bb53-34b4-4f97-9aa8-9a6223f80c61 ┆             60.0 ┆ POINT(-78.82777033612962 42.716860070… │\n",
      "├╌╌╌╌╌╌╌╌╌╌╌╌╌╌╌╌╌╌╌╌╌╌╌╌╌╌╌╌╌╌╌╌╌╌╌╌╌╌┼╌╌╌╌╌╌╌╌╌╌╌╌╌╌╌╌╌╌┼╌╌╌╌╌╌╌╌╌╌╌╌╌╌╌╌╌╌╌╌╌╌╌╌╌╌╌╌╌╌╌╌╌╌╌╌╌╌╌╌┤\n",
      "│ 60e276bc-bc7e-48e4-aeb5-d75b968682d4 ┆             22.0 ┆ POINT(-78.82682208412761 42.716408955… │\n",
      "├╌╌╌╌╌╌╌╌╌╌╌╌╌╌╌╌╌╌╌╌╌╌╌╌╌╌╌╌╌╌╌╌╌╌╌╌╌╌┼╌╌╌╌╌╌╌╌╌╌╌╌╌╌╌╌╌╌┼╌╌╌╌╌╌╌╌╌╌╌╌╌╌╌╌╌╌╌╌╌╌╌╌╌╌╌╌╌╌╌╌╌╌╌╌╌╌╌╌┤\n",
      "│ 01a64ff1-187b-4b4b-bcf8-f7f452ab179b ┆             22.0 ┆ POINT(-78.8266823927936 42.7164021545… │\n",
      "├╌╌╌╌╌╌╌╌╌╌╌╌╌╌╌╌╌╌╌╌╌╌╌╌╌╌╌╌╌╌╌╌╌╌╌╌╌╌┼╌╌╌╌╌╌╌╌╌╌╌╌╌╌╌╌╌╌┼╌╌╌╌╌╌╌╌╌╌╌╌╌╌╌╌╌╌╌╌╌╌╌╌╌╌╌╌╌╌╌╌╌╌╌╌╌╌╌╌┤\n",
      "│ ca8e8e09-c6d7-4d43-88e3-5addc8896e2e ┆             33.0 ┆ POINT(-78.82655011676606 42.716225864… │\n",
      "└──────────────────────────────────────┴──────────────────┴────────────────────────────────────────┘\n"
     ]
    }
   ],
   "source": [
    "# Step 1: Load the 'divisions' data and register it as a SQL view\n",
    "divisions_df = sd.read_parquet(\n",
    "    \"s3://overturemaps-us-west-2/release/2025-08-20.0/theme=divisions/type=division_area/\"\n",
    ")\n",
    "divisions_df.to_view(\"divisions\", overwrite=True)\n",
    "\n",
    "\n",
    "# Step 2: Find the NYC boundary from the 'divisions' data using the correct region code\n",
    "nyc_boundary_df = sd.sql(\"\"\"\n",
    "    SELECT geometry\n",
    "    FROM divisions\n",
    "    WHERE names.primary = 'New York' AND region = 'US-NY'\n",
    "    LIMIT 1\n",
    "\"\"\")\n",
    "nyc_polygon_geom = nyc_boundary_df.to_pandas()['geometry'][0]\n",
    "nyc_polygon_wkt = nyc_polygon_geom.wkt\n",
    "\n",
    "\n",
    "# Step 3: Load the buildings data\n",
    "buildings_df = sd.read_parquet(\n",
    "    \"s3://overturemaps-us-west-2/release/2025-08-20.0/theme=buildings/type=building/\"\n",
    ")\n",
    "buildings_df.to_view(\"buildings\", overwrite=True)\n",
    "\n",
    "\n",
    "# Step 4: Use the NYC boundary to filter the buildings\n",
    "nyc_buildings_results = sd.sql(f\"\"\"\n",
    "    SELECT\n",
    "        id,\n",
    "        height,\n",
    "        ST_Centroid(geometry) as centroid\n",
    "    FROM\n",
    "        buildings\n",
    "    WHERE\n",
    "        is_underground = FALSE\n",
    "        AND height IS NOT NULL\n",
    "        AND height > 20\n",
    "        AND ST_Intersects(\n",
    "            geometry,\n",
    "            ST_SetSRID(ST_GeomFromText('{nyc_polygon_wkt}'), 4326)\n",
    "        )\n",
    "\"\"\")\n",
    "\n",
    "nyc_buildings_results.show()"
   ]
  },
  {
   "cell_type": "code",
   "execution_count": 8,
   "id": "c2952a4c",
   "metadata": {},
   "outputs": [
    {
     "data": {
      "application/vnd.jupyter.widget-view+json": {
       "model_id": "7743a1e894764ee497f56456f5ad8550",
       "version_major": 2,
       "version_minor": 1
      },
      "text/plain": [
       "Map(basemap_style=<CartoBasemap.DarkMatter: 'https://basemaps.cartocdn.com/gl/dark-matter-gl-style/style.json'…"
      ]
     },
     "execution_count": 8,
     "metadata": {},
     "output_type": "execute_result"
    }
   ],
   "source": [
    "lonboard.viz(nyc_buildings_results)"
   ]
  },
  {
   "cell_type": "markdown",
   "id": "fc1d2023-c83a-4010-808b-212161b1b577",
   "metadata": {},
   "source": [
    "## Performance & Timing"
   ]
  },
  {
   "cell_type": "code",
   "execution_count": 9,
   "id": "0db5a5ac",
   "metadata": {},
   "outputs": [
    {
     "name": "stdout",
     "output_type": "stream",
     "text": [
      " Total notebook execution time: 86.06 seconds\n"
     ]
    }
   ],
   "source": [
    "end_time = time.time()\n",
    "total_time = end_time - start_time\n",
    "print(f\" Total notebook execution time: {total_time:.2f} seconds\")"
   ]
  }
 ],
 "metadata": {
  "kernelspec": {
   "display_name": ".venv (3.13.3)",
   "language": "python",
   "name": "python3"
  },
  "language_info": {
   "codemirror_mode": {
    "name": "ipython",
    "version": 3
   },
   "file_extension": ".py",
   "mimetype": "text/x-python",
   "name": "python",
   "nbconvert_exporter": "python",
   "pygments_lexer": "ipython3",
   "version": "3.13.3"
  }
 },
 "nbformat": 4,
 "nbformat_minor": 5
}
