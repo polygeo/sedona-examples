{
 "cells": [
  {
   "cell_type": "markdown",
   "id": "85f93417-88e1-4e00-aa84-50e5f2e26332",
   "metadata": {},
   "source": [
    "# SedonaDB KNN + lonboard"
   ]
  },
  {
   "cell_type": "code",
   "execution_count": 2,
   "id": "db83dc0f-99b6-40de-9a99-40c65a873d99",
   "metadata": {},
   "outputs": [],
   "source": [
    "import sedona.db\n",
    "import os\n",
    "\n",
    "os.environ[\"AWS_SKIP_SIGNATURE\"] = \"true\"\n",
    "os.environ[\"AWS_DEFAULT_REGION\"] = \"us-west-2\"\n",
    "\n",
    "sd = sedona.db.connect()"
   ]
  },
  {
   "cell_type": "code",
   "execution_count": 8,
   "id": "e4abff29-af93-425c-8e01-a5a31f7416f0",
   "metadata": {},
   "outputs": [],
   "source": [
    "df = sd.read_parquet(\n",
    "    \"s3://overturemaps-us-west-2/release/2025-08-20.0/theme=places/type=place/\"\n",
    ")"
   ]
  },
  {
   "cell_type": "code",
   "execution_count": 19,
   "id": "0b32e5a4-dfb9-4fef-93e3-d67a20cc112c",
   "metadata": {},
   "outputs": [
    {
     "name": "stdout",
     "output_type": "stream",
     "text": [
      "┌──────────────┬──────────────────────────┐\n",
      "│ capital_name ┆         location         │\n",
      "│     utf8     ┆         geometry         │\n",
      "╞══════════════╪══════════════════════════╡\n",
      "│ Austin       ┆ POINT(-97.7431 30.2747)  │\n",
      "├╌╌╌╌╌╌╌╌╌╌╌╌╌╌┼╌╌╌╌╌╌╌╌╌╌╌╌╌╌╌╌╌╌╌╌╌╌╌╌╌╌┤\n",
      "│ Sacramento   ┆ POINT(-121.4944 38.5816) │\n",
      "├╌╌╌╌╌╌╌╌╌╌╌╌╌╌┼╌╌╌╌╌╌╌╌╌╌╌╌╌╌╌╌╌╌╌╌╌╌╌╌╌╌┤\n",
      "│ Boston       ┆ POINT(-71.0589 42.3601)  │\n",
      "└──────────────┴──────────────────────────┘\n"
     ]
    }
   ],
   "source": [
    "df.show(3)"
   ]
  },
  {
   "cell_type": "code",
   "execution_count": 10,
   "id": "aa382251-f589-4183-b5e2-334673e858af",
   "metadata": {},
   "outputs": [],
   "source": [
    "df.to_view(\"overture_places\")"
   ]
  },
  {
   "cell_type": "code",
   "execution_count": 11,
   "id": "b6f1f31f-57c5-4b8f-9dfa-39a1eb221d22",
   "metadata": {},
   "outputs": [
    {
     "name": "stdout",
     "output_type": "stream",
     "text": [
      "┌────────────────────────────┬─────────────┬───────────────────────────┬───────────────────────────┐\n",
      "│            name            ┆   category  ┆          geometry         ┆ overture_places.addresses │\n",
      "│            utf8            ┆     utf8    ┆          geometry         ┆    [Int64(0)][region]…    │\n",
      "╞════════════════════════════╪═════════════╪═══════════════════════════╪═══════════════════════════╡\n",
      "│ Italian Foods and Coffee … ┆ coffee_shop ┆ POINT(79.9649058 7.59914… ┆                           │\n",
      "├╌╌╌╌╌╌╌╌╌╌╌╌╌╌╌╌╌╌╌╌╌╌╌╌╌╌╌╌┼╌╌╌╌╌╌╌╌╌╌╌╌╌┼╌╌╌╌╌╌╌╌╌╌╌╌╌╌╌╌╌╌╌╌╌╌╌╌╌╌╌┼╌╌╌╌╌╌╌╌╌╌╌╌╌╌╌╌╌╌╌╌╌╌╌╌╌╌╌┤\n",
      "│ Atara Restaurant & Coffee… ┆ coffee_shop ┆ POINT(79.7654815 8.24232… ┆                           │\n",
      "├╌╌╌╌╌╌╌╌╌╌╌╌╌╌╌╌╌╌╌╌╌╌╌╌╌╌╌╌┼╌╌╌╌╌╌╌╌╌╌╌╌╌┼╌╌╌╌╌╌╌╌╌╌╌╌╌╌╌╌╌╌╌╌╌╌╌╌╌╌╌┼╌╌╌╌╌╌╌╌╌╌╌╌╌╌╌╌╌╌╌╌╌╌╌╌╌╌╌┤\n",
      "│ Ceylon Coffee Company      ┆ coffee_shop ┆ POINT(80.5830356 7.16505… ┆                           │\n",
      "├╌╌╌╌╌╌╌╌╌╌╌╌╌╌╌╌╌╌╌╌╌╌╌╌╌╌╌╌┼╌╌╌╌╌╌╌╌╌╌╌╌╌┼╌╌╌╌╌╌╌╌╌╌╌╌╌╌╌╌╌╌╌╌╌╌╌╌╌╌╌┼╌╌╌╌╌╌╌╌╌╌╌╌╌╌╌╌╌╌╌╌╌╌╌╌╌╌╌┤\n",
      "│ Karak Chaiwala             ┆ coffee_shop ┆ POINT(80.5811629 7.17736) ┆                           │\n",
      "├╌╌╌╌╌╌╌╌╌╌╌╌╌╌╌╌╌╌╌╌╌╌╌╌╌╌╌╌┼╌╌╌╌╌╌╌╌╌╌╌╌╌┼╌╌╌╌╌╌╌╌╌╌╌╌╌╌╌╌╌╌╌╌╌╌╌╌╌╌╌┼╌╌╌╌╌╌╌╌╌╌╌╌╌╌╌╌╌╌╌╌╌╌╌╌╌╌╌┤\n",
      "│ Cake n' Coffee Bar         ┆ coffee_shop ┆ POINT(80.6986663 7.05312… ┆                           │\n",
      "└────────────────────────────┴─────────────┴───────────────────────────┴───────────────────────────┘\n"
     ]
    }
   ],
   "source": [
    "sd.sql(\"\"\"\n",
    "SELECT \n",
    "  names.primary AS name,\n",
    "  categories.primary AS category,\n",
    "  geometry,\n",
    "  addresses[0]['region']\n",
    "FROM overture_places\n",
    "WHERE categories.primary = 'coffee_shop'\n",
    "LIMIT 5;\n",
    "\"\"\").show()"
   ]
  },
  {
   "cell_type": "code",
   "execution_count": 24,
   "id": "e049baa9-2ae7-48ff-966e-d73296a25e25",
   "metadata": {},
   "outputs": [
    {
     "ename": "SedonaError",
     "evalue": "Internal error: PlaceholderRowExec invalid partition 3 (expected less than 1).\nThis issue was likely caused by a bug in DataFusion's code. Please help us to resolve this by filing a bug report in our issue tracker: https://github.com/apache/datafusion/issues",
     "output_type": "error",
     "traceback": [
      "\u001b[0;31m---------------------------------------------------------------------------\u001b[0m",
      "\u001b[0;31mSedonaError\u001b[0m                               Traceback (most recent call last)",
      "Cell \u001b[0;32mIn[24], line 12\u001b[0m\n\u001b[1;32m      1\u001b[0m \u001b[43msd\u001b[49m\u001b[38;5;241;43m.\u001b[39;49m\u001b[43msql\u001b[49m\u001b[43m(\u001b[49m\u001b[38;5;124;43m\"\"\"\u001b[39;49m\n\u001b[1;32m      2\u001b[0m \u001b[38;5;124;43mSELECT \u001b[39;49m\n\u001b[1;32m      3\u001b[0m \u001b[38;5;124;43m  places.names.primary AS name, \u001b[39;49m\n\u001b[1;32m      4\u001b[0m \u001b[38;5;124;43m  places.categories.primary AS category, \u001b[39;49m\n\u001b[1;32m      5\u001b[0m \u001b[38;5;124;43m  places.geometry \u001b[39;49m\n\u001b[1;32m      6\u001b[0m \u001b[38;5;124;43mFROM (\u001b[39;49m\n\u001b[1;32m      7\u001b[0m \u001b[38;5;124;43m  SELECT ST_SetSRID(ST_GeomFromWKT(\u001b[39;49m\u001b[38;5;124;43m'\u001b[39;49m\u001b[38;5;124;43mPOINT(-97.7431 30.2747)\u001b[39;49m\u001b[38;5;124;43m'\u001b[39;49m\u001b[38;5;124;43m), 4326) AS geom\u001b[39;49m\n\u001b[1;32m      8\u001b[0m \u001b[38;5;124;43m) AS search_point \u001b[39;49m\n\u001b[1;32m      9\u001b[0m \u001b[38;5;124;43mJOIN overture_places AS places \u001b[39;49m\n\u001b[1;32m     10\u001b[0m \u001b[38;5;124;43m  ON ST_KNN(search_point.geom, places.geometry, 5, false) \u001b[39;49m\n\u001b[1;32m     11\u001b[0m \u001b[38;5;124;43mWHERE places.categories.primary = \u001b[39;49m\u001b[38;5;124;43m'\u001b[39;49m\u001b[38;5;124;43mcoffee_shop\u001b[39;49m\u001b[38;5;124;43m'\u001b[39;49m\n\u001b[0;32m---> 12\u001b[0m \u001b[38;5;124;43m\"\"\"\u001b[39;49m\u001b[43m)\u001b[49m\u001b[38;5;241;43m.\u001b[39;49m\u001b[43mshow\u001b[49m\u001b[43m(\u001b[49m\u001b[43m)\u001b[49m\n",
      "File \u001b[0;32m~/Documents/code/polygeo/sedona-examples/.venv/lib/python3.12/site-packages/sedonadb/dataframe.py:380\u001b[0m, in \u001b[0;36mDataFrame.show\u001b[0;34m(self, limit, width, ascii)\u001b[0m\n\u001b[1;32m    356\u001b[0m \u001b[38;5;250m\u001b[39m\u001b[38;5;124;03m\"\"\"Print the first limit rows to the console\u001b[39;00m\n\u001b[1;32m    357\u001b[0m \n\u001b[1;32m    358\u001b[0m \u001b[38;5;124;03mArgs:\u001b[39;00m\n\u001b[0;32m   (...)\u001b[0m\n\u001b[1;32m    377\u001b[0m \n\u001b[1;32m    378\u001b[0m \u001b[38;5;124;03m\"\"\"\u001b[39;00m\n\u001b[1;32m    379\u001b[0m width \u001b[38;5;241m=\u001b[39m \u001b[38;5;28mself\u001b[39m\u001b[38;5;241m.\u001b[39m_out_width(width)\n\u001b[0;32m--> 380\u001b[0m \u001b[38;5;28mprint\u001b[39m(\u001b[38;5;28;43mself\u001b[39;49m\u001b[38;5;241;43m.\u001b[39;49m\u001b[43m_impl\u001b[49m\u001b[38;5;241;43m.\u001b[39;49m\u001b[43mshow\u001b[49m\u001b[43m(\u001b[49m\u001b[38;5;28;43mself\u001b[39;49m\u001b[38;5;241;43m.\u001b[39;49m\u001b[43m_ctx\u001b[49m\u001b[43m,\u001b[49m\u001b[43m \u001b[49m\u001b[43mlimit\u001b[49m\u001b[43m,\u001b[49m\u001b[43m \u001b[49m\u001b[43mwidth\u001b[49m\u001b[43m,\u001b[49m\u001b[43m \u001b[49m\u001b[43mascii\u001b[49m\u001b[43m)\u001b[49m, end\u001b[38;5;241m=\u001b[39m\u001b[38;5;124m\"\u001b[39m\u001b[38;5;124m\"\u001b[39m)\n",
      "\u001b[0;31mSedonaError\u001b[0m: Internal error: PlaceholderRowExec invalid partition 3 (expected less than 1).\nThis issue was likely caused by a bug in DataFusion's code. Please help us to resolve this by filing a bug report in our issue tracker: https://github.com/apache/datafusion/issues"
     ]
    }
   ],
   "source": [
    "sd.sql(\"\"\"\n",
    "SELECT \n",
    "  places.names.primary AS name, \n",
    "  places.categories.primary AS category, \n",
    "  places.geometry \n",
    "FROM (\n",
    "  SELECT ST_SetSRID(ST_GeomFromWKT('POINT(-97.7431 30.2747)'), 4326) AS geom\n",
    ") AS search_point \n",
    "JOIN overture_places AS places \n",
    "  ON ST_KNN(search_point.geom, places.geometry, 5, false) \n",
    "WHERE places.categories.primary = 'coffee_shop'\n",
    "\"\"\").show()"
   ]
  },
  {
   "cell_type": "code",
   "execution_count": 14,
   "id": "eafc0506-7d20-42a7-bc11-ba639ec5684c",
   "metadata": {},
   "outputs": [
    {
     "name": "stdout",
     "output_type": "stream",
     "text": [
      "┌──────────────┬──────────────────────────┐\n",
      "│ capital_name ┆         location         │\n",
      "│     utf8     ┆         geometry         │\n",
      "╞══════════════╪══════════════════════════╡\n",
      "│ Austin       ┆ POINT(-97.7431 30.2747)  │\n",
      "├╌╌╌╌╌╌╌╌╌╌╌╌╌╌┼╌╌╌╌╌╌╌╌╌╌╌╌╌╌╌╌╌╌╌╌╌╌╌╌╌╌┤\n",
      "│ Sacramento   ┆ POINT(-121.4944 38.5816) │\n",
      "├╌╌╌╌╌╌╌╌╌╌╌╌╌╌┼╌╌╌╌╌╌╌╌╌╌╌╌╌╌╌╌╌╌╌╌╌╌╌╌╌╌┤\n",
      "│ Boston       ┆ POINT(-71.0589 42.3601)  │\n",
      "└──────────────┴──────────────────────────┘\n"
     ]
    }
   ],
   "source": [
    "df = sd.sql(\"\"\"\n",
    "SELECT \n",
    "    capital_name, \n",
    "    ST_SetSRID(ST_Point(lng, lat), 4326) AS location\n",
    "FROM (\n",
    "    VALUES \n",
    "        ('Austin', -97.7431, 30.2747),\n",
    "        ('Sacramento', -121.4944, 38.5816),\n",
    "        ('Boston', -71.0589, 42.3601)\n",
    ") AS t(capital_name, lng, lat)\n",
    "\"\"\")\n",
    "\n",
    "df.show()"
   ]
  },
  {
   "cell_type": "code",
   "execution_count": 15,
   "id": "4aaf96c6-7e0e-4a4e-9a7e-60a6f62f7782",
   "metadata": {},
   "outputs": [],
   "source": [
    "df.to_view(\"capitals\")"
   ]
  },
  {
   "cell_type": "code",
   "execution_count": 16,
   "id": "e1975f54-1245-4e5c-aeeb-ffc9c5fc7ef7",
   "metadata": {},
   "outputs": [
    {
     "name": "stdout",
     "output_type": "stream",
     "text": [
      "┌──────────────┬──────────────────────┬─────────────┬───────────────────────┬──────────────────────┐\n",
      "│ capital_name ┆         name         ┆   category  ┆        distance       ┆       geometry       │\n",
      "│     utf8     ┆         utf8         ┆     utf8    ┆        float64        ┆       geometry       │\n",
      "╞══════════════╪══════════════════════╪═════════════╪═══════════════════════╪══════════════════════╡\n",
      "│ Austin       ┆ Sweetwaters Coffee … ┆ coffee_shop ┆ 0.0008701168484779806 ┆ POINT(-97.7439102 3… │\n",
      "├╌╌╌╌╌╌╌╌╌╌╌╌╌╌┼╌╌╌╌╌╌╌╌╌╌╌╌╌╌╌╌╌╌╌╌╌╌┼╌╌╌╌╌╌╌╌╌╌╌╌╌┼╌╌╌╌╌╌╌╌╌╌╌╌╌╌╌╌╌╌╌╌╌╌╌┼╌╌╌╌╌╌╌╌╌╌╌╌╌╌╌╌╌╌╌╌╌╌┤\n",
      "│ Austin       ┆ Apollo Cafe          ┆ coffee_shop ┆  0.002659806669664969 ┆ POINT(-97.7429184 3… │\n",
      "├╌╌╌╌╌╌╌╌╌╌╌╌╌╌┼╌╌╌╌╌╌╌╌╌╌╌╌╌╌╌╌╌╌╌╌╌╌┼╌╌╌╌╌╌╌╌╌╌╌╌╌┼╌╌╌╌╌╌╌╌╌╌╌╌╌╌╌╌╌╌╌╌╌╌╌┼╌╌╌╌╌╌╌╌╌╌╌╌╌╌╌╌╌╌╌╌╌╌┤\n",
      "│ Austin       ┆ 15th Street Cafe     ┆ coffee_shop ┆ 0.0028700824326153983 ┆ POINT(-97.7428706 3… │\n",
      "├╌╌╌╌╌╌╌╌╌╌╌╌╌╌┼╌╌╌╌╌╌╌╌╌╌╌╌╌╌╌╌╌╌╌╌╌╌┼╌╌╌╌╌╌╌╌╌╌╌╌╌┼╌╌╌╌╌╌╌╌╌╌╌╌╌╌╌╌╌╌╌╌╌╌╌┼╌╌╌╌╌╌╌╌╌╌╌╌╌╌╌╌╌╌╌╌╌╌┤\n",
      "│ Austin       ┆ Starbucks            ┆ coffee_shop ┆ 0.0034017799870061345 ┆ POINT(-97.7408358 3… │\n",
      "├╌╌╌╌╌╌╌╌╌╌╌╌╌╌┼╌╌╌╌╌╌╌╌╌╌╌╌╌╌╌╌╌╌╌╌╌╌┼╌╌╌╌╌╌╌╌╌╌╌╌╌┼╌╌╌╌╌╌╌╌╌╌╌╌╌╌╌╌╌╌╌╌╌╌╌┼╌╌╌╌╌╌╌╌╌╌╌╌╌╌╌╌╌╌╌╌╌╌┤\n",
      "│ Austin       ┆ Capitol Cafe         ┆ coffee_shop ┆ 0.0034448370092059768 ┆ POINT(-97.7411961 3… │\n",
      "├╌╌╌╌╌╌╌╌╌╌╌╌╌╌┼╌╌╌╌╌╌╌╌╌╌╌╌╌╌╌╌╌╌╌╌╌╌┼╌╌╌╌╌╌╌╌╌╌╌╌╌┼╌╌╌╌╌╌╌╌╌╌╌╌╌╌╌╌╌╌╌╌╌╌╌┼╌╌╌╌╌╌╌╌╌╌╌╌╌╌╌╌╌╌╌╌╌╌┤\n",
      "│ Austin       ┆ Starbucks            ┆ coffee_shop ┆  0.003550689524586642 ┆ POINT(-97.7443449 3… │\n",
      "├╌╌╌╌╌╌╌╌╌╌╌╌╌╌┼╌╌╌╌╌╌╌╌╌╌╌╌╌╌╌╌╌╌╌╌╌╌┼╌╌╌╌╌╌╌╌╌╌╌╌╌┼╌╌╌╌╌╌╌╌╌╌╌╌╌╌╌╌╌╌╌╌╌╌╌┼╌╌╌╌╌╌╌╌╌╌╌╌╌╌╌╌╌╌╌╌╌╌┤\n",
      "│ Austin       ┆ Starbucks            ┆ coffee_shop ┆  0.003597943988502772 ┆ POINT(-97.7444412 3… │\n",
      "├╌╌╌╌╌╌╌╌╌╌╌╌╌╌┼╌╌╌╌╌╌╌╌╌╌╌╌╌╌╌╌╌╌╌╌╌╌┼╌╌╌╌╌╌╌╌╌╌╌╌╌┼╌╌╌╌╌╌╌╌╌╌╌╌╌╌╌╌╌╌╌╌╌╌╌┼╌╌╌╌╌╌╌╌╌╌╌╌╌╌╌╌╌╌╌╌╌╌┤\n",
      "│ Austin       ┆ Starbucks            ┆ coffee_shop ┆ 0.0037334082886840347 ┆ POINT(-97.7443543 3… │\n",
      "├╌╌╌╌╌╌╌╌╌╌╌╌╌╌┼╌╌╌╌╌╌╌╌╌╌╌╌╌╌╌╌╌╌╌╌╌╌┼╌╌╌╌╌╌╌╌╌╌╌╌╌┼╌╌╌╌╌╌╌╌╌╌╌╌╌╌╌╌╌╌╌╌╌╌╌┼╌╌╌╌╌╌╌╌╌╌╌╌╌╌╌╌╌╌╌╌╌╌┤\n",
      "│ Austin       ┆ JavaChoice           ┆ coffee_shop ┆  0.004843727903174731 ┆ POINT(-97.74521 30.… │\n",
      "├╌╌╌╌╌╌╌╌╌╌╌╌╌╌┼╌╌╌╌╌╌╌╌╌╌╌╌╌╌╌╌╌╌╌╌╌╌┼╌╌╌╌╌╌╌╌╌╌╌╌╌┼╌╌╌╌╌╌╌╌╌╌╌╌╌╌╌╌╌╌╌╌╌╌╌┼╌╌╌╌╌╌╌╌╌╌╌╌╌╌╌╌╌╌╌╌╌╌┤\n",
      "│ Austin       ┆ The Dallas Cafe      ┆ coffee_shop ┆  0.005794411100363111 ┆ POINT(-97.74116 30.… │\n",
      "└──────────────┴──────────────────────┴─────────────┴───────────────────────┴──────────────────────┘\n"
     ]
    }
   ],
   "source": [
    "sd.sql(\"\"\"\n",
    "SELECT \n",
    "  c.capital_name,\n",
    "  p.names.primary AS name,\n",
    "  p.categories.primary AS category,\n",
    "  ST_Distance(p.geometry, c.location) AS distance,\n",
    "  p.geometry\n",
    "FROM overture_places p\n",
    "JOIN capitals c\n",
    "ON p.categories.primary = 'coffee_shop'\n",
    "  AND ST_KNN(p.geometry, c.location, 5, false)\n",
    "ORDER BY c.capital_name, distance\n",
    "\"\"\").show()"
   ]
  },
  {
   "cell_type": "code",
   "execution_count": 25,
   "id": "9213b522-c38a-4d9a-a791-1c06ee133e56",
   "metadata": {},
   "outputs": [],
   "source": [
    "res = sd.sql(\"\"\"\n",
    "WITH ranked_shops AS (\n",
    "  SELECT \n",
    "    c.capital_name,\n",
    "    p.names.primary AS name,\n",
    "    p.categories.primary AS category,\n",
    "    ST_Distance(p.geometry, c.location) AS distance,\n",
    "    p.geometry,\n",
    "    ROW_NUMBER() OVER (PARTITION BY c.capital_name ORDER BY ST_Distance(p.geometry, c.location)) AS rank\n",
    "  FROM overture_places p\n",
    "  JOIN capitals c\n",
    "  ON p.categories.primary = 'coffee_shop'\n",
    "    AND ST_KNN(p.geometry, c.location, 5, false)\n",
    ")\n",
    "SELECT capital_name, name, category, distance, geometry\n",
    "FROM ranked_shops\n",
    "WHERE rank <= 5\n",
    "ORDER BY capital_name, rank\n",
    "\"\"\")"
   ]
  },
  {
   "cell_type": "code",
   "execution_count": 26,
   "id": "40cd1704-9618-4063-a2ff-853f4294e0ac",
   "metadata": {},
   "outputs": [
    {
     "name": "stdout",
     "output_type": "stream",
     "text": [
      "┌──────────────┬──────────────────────┬─────────────┬───────────────────────┬──────────────────────┐\n",
      "│ capital_name ┆         name         ┆   category  ┆        distance       ┆       geometry       │\n",
      "│     utf8     ┆         utf8         ┆     utf8    ┆        float64        ┆       geometry       │\n",
      "╞══════════════╪══════════════════════╪═════════════╪═══════════════════════╪══════════════════════╡\n",
      "│ Austin       ┆ Sweetwaters Coffee … ┆ coffee_shop ┆ 0.0008701168484779806 ┆ POINT(-97.7439102 3… │\n",
      "├╌╌╌╌╌╌╌╌╌╌╌╌╌╌┼╌╌╌╌╌╌╌╌╌╌╌╌╌╌╌╌╌╌╌╌╌╌┼╌╌╌╌╌╌╌╌╌╌╌╌╌┼╌╌╌╌╌╌╌╌╌╌╌╌╌╌╌╌╌╌╌╌╌╌╌┼╌╌╌╌╌╌╌╌╌╌╌╌╌╌╌╌╌╌╌╌╌╌┤\n",
      "│ Austin       ┆ Apollo Cafe          ┆ coffee_shop ┆  0.002659806669664969 ┆ POINT(-97.7429184 3… │\n",
      "├╌╌╌╌╌╌╌╌╌╌╌╌╌╌┼╌╌╌╌╌╌╌╌╌╌╌╌╌╌╌╌╌╌╌╌╌╌┼╌╌╌╌╌╌╌╌╌╌╌╌╌┼╌╌╌╌╌╌╌╌╌╌╌╌╌╌╌╌╌╌╌╌╌╌╌┼╌╌╌╌╌╌╌╌╌╌╌╌╌╌╌╌╌╌╌╌╌╌┤\n",
      "│ Austin       ┆ 15th Street Cafe     ┆ coffee_shop ┆ 0.0028700824326153983 ┆ POINT(-97.7428706 3… │\n",
      "├╌╌╌╌╌╌╌╌╌╌╌╌╌╌┼╌╌╌╌╌╌╌╌╌╌╌╌╌╌╌╌╌╌╌╌╌╌┼╌╌╌╌╌╌╌╌╌╌╌╌╌┼╌╌╌╌╌╌╌╌╌╌╌╌╌╌╌╌╌╌╌╌╌╌╌┼╌╌╌╌╌╌╌╌╌╌╌╌╌╌╌╌╌╌╌╌╌╌┤\n",
      "│ Austin       ┆ Starbucks            ┆ coffee_shop ┆ 0.0034017799870061345 ┆ POINT(-97.7408358 3… │\n",
      "├╌╌╌╌╌╌╌╌╌╌╌╌╌╌┼╌╌╌╌╌╌╌╌╌╌╌╌╌╌╌╌╌╌╌╌╌╌┼╌╌╌╌╌╌╌╌╌╌╌╌╌┼╌╌╌╌╌╌╌╌╌╌╌╌╌╌╌╌╌╌╌╌╌╌╌┼╌╌╌╌╌╌╌╌╌╌╌╌╌╌╌╌╌╌╌╌╌╌┤\n",
      "│ Austin       ┆ Capitol Cafe         ┆ coffee_shop ┆ 0.0034448370092059768 ┆ POINT(-97.7411961 3… │\n",
      "├╌╌╌╌╌╌╌╌╌╌╌╌╌╌┼╌╌╌╌╌╌╌╌╌╌╌╌╌╌╌╌╌╌╌╌╌╌┼╌╌╌╌╌╌╌╌╌╌╌╌╌┼╌╌╌╌╌╌╌╌╌╌╌╌╌╌╌╌╌╌╌╌╌╌╌┼╌╌╌╌╌╌╌╌╌╌╌╌╌╌╌╌╌╌╌╌╌╌┤\n",
      "│ Boston       ┆ Triangle Coffee      ┆ coffee_shop ┆ 0.0007600657866259927 ┆ POINT(-71.05814 42.… │\n",
      "├╌╌╌╌╌╌╌╌╌╌╌╌╌╌┼╌╌╌╌╌╌╌╌╌╌╌╌╌╌╌╌╌╌╌╌╌╌┼╌╌╌╌╌╌╌╌╌╌╌╌╌┼╌╌╌╌╌╌╌╌╌╌╌╌╌╌╌╌╌╌╌╌╌╌╌┼╌╌╌╌╌╌╌╌╌╌╌╌╌╌╌╌╌╌╌╌╌╌┤\n",
      "│ Boston       ┆ Caffè Nero           ┆ coffee_shop ┆ 0.0012897888974681606 ┆ POINT(-71.0600612 4… │\n",
      "├╌╌╌╌╌╌╌╌╌╌╌╌╌╌┼╌╌╌╌╌╌╌╌╌╌╌╌╌╌╌╌╌╌╌╌╌╌┼╌╌╌╌╌╌╌╌╌╌╌╌╌┼╌╌╌╌╌╌╌╌╌╌╌╌╌╌╌╌╌╌╌╌╌╌╌┼╌╌╌╌╌╌╌╌╌╌╌╌╌╌╌╌╌╌╌╌╌╌┤\n",
      "│ Boston       ┆ Boston News Cafe     ┆ coffee_shop ┆  0.001372194902333795 ┆ POINT(-71.0575286 4… │\n",
      "├╌╌╌╌╌╌╌╌╌╌╌╌╌╌┼╌╌╌╌╌╌╌╌╌╌╌╌╌╌╌╌╌╌╌╌╌╌┼╌╌╌╌╌╌╌╌╌╌╌╌╌┼╌╌╌╌╌╌╌╌╌╌╌╌╌╌╌╌╌╌╌╌╌╌╌┼╌╌╌╌╌╌╌╌╌╌╌╌╌╌╌╌╌╌╌╌╌╌┤\n",
      "│ Boston       ┆ Paul Bakery          ┆ coffee_shop ┆ 0.0018479015585238672 ┆ POINT(-71.0579616 4… │\n",
      "├╌╌╌╌╌╌╌╌╌╌╌╌╌╌┼╌╌╌╌╌╌╌╌╌╌╌╌╌╌╌╌╌╌╌╌╌╌┼╌╌╌╌╌╌╌╌╌╌╌╌╌┼╌╌╌╌╌╌╌╌╌╌╌╌╌╌╌╌╌╌╌╌╌╌╌┼╌╌╌╌╌╌╌╌╌╌╌╌╌╌╌╌╌╌╌╌╌╌┤\n",
      "│ Boston       ┆ The Well Coffee Hou… ┆ coffee_shop ┆ 0.0019235235506795253 ┆ POINT(-71.0577867 4… │\n",
      "└──────────────┴──────────────────────┴─────────────┴───────────────────────┴──────────────────────┘\n"
     ]
    }
   ],
   "source": [
    "res.show()"
   ]
  },
  {
   "cell_type": "code",
   "execution_count": 27,
   "id": "ec403f3a-8dba-43ca-a40c-f9d92fc7f919",
   "metadata": {},
   "outputs": [
    {
     "data": {
      "application/vnd.jupyter.widget-view+json": {
       "model_id": "39e25174e9da4c40b0290a51ea8a226a",
       "version_major": 2,
       "version_minor": 1
      },
      "text/plain": [
       "Map(basemap_style=<CartoBasemap.DarkMatter: 'https://basemaps.cartocdn.com/gl/dark-matter-gl-style/style.json'…"
      ]
     },
     "execution_count": 27,
     "metadata": {},
     "output_type": "execute_result"
    }
   ],
   "source": [
    "import lonboard\n",
    "\n",
    "lonboard.viz(res)"
   ]
  },
  {
   "cell_type": "code",
   "execution_count": null,
   "id": "935b9415-48d5-4423-9d7c-8bd05f731f55",
   "metadata": {},
   "outputs": [],
   "source": []
  }
 ],
 "metadata": {
  "kernelspec": {
   "display_name": "Python 3 (ipykernel)",
   "language": "python",
   "name": "python3"
  },
  "language_info": {
   "codemirror_mode": {
    "name": "ipython",
    "version": 3
   },
   "file_extension": ".py",
   "mimetype": "text/x-python",
   "name": "python",
   "nbconvert_exporter": "python",
   "pygments_lexer": "ipython3",
   "version": "3.12.4"
  }
 },
 "nbformat": 4,
 "nbformat_minor": 5
}
