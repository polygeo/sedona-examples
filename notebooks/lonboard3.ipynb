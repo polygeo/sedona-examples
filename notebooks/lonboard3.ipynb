{
 "cells": [
  {
   "cell_type": "markdown",
   "id": "85f93417-88e1-4e00-aa84-50e5f2e26332",
   "metadata": {},
   "source": [
    "# SedonaDB KNN + lonboard"
   ]
  },
  {
   "cell_type": "code",
   "execution_count": 1,
   "id": "db83dc0f-99b6-40de-9a99-40c65a873d99",
   "metadata": {},
   "outputs": [],
   "source": [
    "import sedona.db\n",
    "import os\n",
    "\n",
    "os.environ[\"AWS_SKIP_SIGNATURE\"] = \"true\"\n",
    "os.environ[\"AWS_DEFAULT_REGION\"] = \"us-west-2\"\n",
    "\n",
    "sd = sedona.db.connect()"
   ]
  },
  {
   "cell_type": "code",
   "execution_count": 4,
   "id": "e4abff29-af93-425c-8e01-a5a31f7416f0",
   "metadata": {},
   "outputs": [],
   "source": [
    "df = sd.read_parquet(\n",
    "    \"s3://overturemaps-us-west-2/release/2025-08-20.0/theme=places/type=place/\"\n",
    ")"
   ]
  },
  {
   "cell_type": "code",
   "execution_count": 5,
   "id": "0b32e5a4-dfb9-4fef-93e3-d67a20cc112c",
   "metadata": {},
   "outputs": [
    {
     "name": "stdout",
     "output_type": "stream",
     "text": [
      "┌──────────────┬─────────────┬─────────────┬─────────┬───┬─────────────┬─────────────┬─────────────┐\n",
      "│      id      ┆   geometry  ┆     bbox    ┆ version ┆ … ┆    phones   ┆    brand    ┆  addresses  │\n",
      "│     utf8     ┆   geometry  ┆    struct   ┆  int32  ┆   ┆     list    ┆    struct   ┆     list    │\n",
      "╞══════════════╪═════════════╪═════════════╪═════════╪═══╪═════════════╪═════════════╪═════════════╡\n",
      "│ 77695c36-8e… ┆ POINT(107.… ┆ {xmin: 107… ┆       2 ┆ … ┆ [+84379842… ┆ {wikidata:… ┆ [{freeform… │\n",
      "├╌╌╌╌╌╌╌╌╌╌╌╌╌╌┼╌╌╌╌╌╌╌╌╌╌╌╌╌┼╌╌╌╌╌╌╌╌╌╌╌╌╌┼╌╌╌╌╌╌╌╌╌┼╌╌╌┼╌╌╌╌╌╌╌╌╌╌╌╌╌┼╌╌╌╌╌╌╌╌╌╌╌╌╌┼╌╌╌╌╌╌╌╌╌╌╌╌╌┤\n",
      "│ d3b0febd-b9… ┆ POINT(107.… ┆ {xmin: 107… ┆       1 ┆ … ┆ [+84911500… ┆ {wikidata:… ┆ [{freeform… │\n",
      "├╌╌╌╌╌╌╌╌╌╌╌╌╌╌┼╌╌╌╌╌╌╌╌╌╌╌╌╌┼╌╌╌╌╌╌╌╌╌╌╌╌╌┼╌╌╌╌╌╌╌╌╌┼╌╌╌┼╌╌╌╌╌╌╌╌╌╌╌╌╌┼╌╌╌╌╌╌╌╌╌╌╌╌╌┼╌╌╌╌╌╌╌╌╌╌╌╌╌┤\n",
      "│ aa33cedd-ab… ┆ POINT(107.… ┆ {xmin: 107… ┆       2 ┆ … ┆             ┆ {wikidata:… ┆ [{freeform… │\n",
      "├╌╌╌╌╌╌╌╌╌╌╌╌╌╌┼╌╌╌╌╌╌╌╌╌╌╌╌╌┼╌╌╌╌╌╌╌╌╌╌╌╌╌┼╌╌╌╌╌╌╌╌╌┼╌╌╌┼╌╌╌╌╌╌╌╌╌╌╌╌╌┼╌╌╌╌╌╌╌╌╌╌╌╌╌┼╌╌╌╌╌╌╌╌╌╌╌╌╌┤\n",
      "│ 04014416-52… ┆ POINT(107.… ┆ {xmin: 107… ┆       2 ┆ … ┆ [+84963099… ┆ {wikidata:… ┆ [{freeform… │\n",
      "├╌╌╌╌╌╌╌╌╌╌╌╌╌╌┼╌╌╌╌╌╌╌╌╌╌╌╌╌┼╌╌╌╌╌╌╌╌╌╌╌╌╌┼╌╌╌╌╌╌╌╌╌┼╌╌╌┼╌╌╌╌╌╌╌╌╌╌╌╌╌┼╌╌╌╌╌╌╌╌╌╌╌╌╌┼╌╌╌╌╌╌╌╌╌╌╌╌╌┤\n",
      "│ b3434123-f7… ┆ POINT(107.… ┆ {xmin: 107… ┆       2 ┆ … ┆ [+84386683… ┆ {wikidata:… ┆ [{freeform… │\n",
      "├╌╌╌╌╌╌╌╌╌╌╌╌╌╌┼╌╌╌╌╌╌╌╌╌╌╌╌╌┼╌╌╌╌╌╌╌╌╌╌╌╌╌┼╌╌╌╌╌╌╌╌╌┼╌╌╌┼╌╌╌╌╌╌╌╌╌╌╌╌╌┼╌╌╌╌╌╌╌╌╌╌╌╌╌┼╌╌╌╌╌╌╌╌╌╌╌╌╌┤\n",
      "│ dbe0d710-f3… ┆ POINT(107.… ┆ {xmin: 107… ┆       2 ┆ … ┆ [+84799986… ┆ {wikidata:… ┆ [{freeform… │\n",
      "├╌╌╌╌╌╌╌╌╌╌╌╌╌╌┼╌╌╌╌╌╌╌╌╌╌╌╌╌┼╌╌╌╌╌╌╌╌╌╌╌╌╌┼╌╌╌╌╌╌╌╌╌┼╌╌╌┼╌╌╌╌╌╌╌╌╌╌╌╌╌┼╌╌╌╌╌╌╌╌╌╌╌╌╌┼╌╌╌╌╌╌╌╌╌╌╌╌╌┤\n",
      "│ a9af8e05-2b… ┆ POINT(107.… ┆ {xmin: 107… ┆       2 ┆ … ┆ [+84396618… ┆ {wikidata:… ┆ [{freeform… │\n",
      "├╌╌╌╌╌╌╌╌╌╌╌╌╌╌┼╌╌╌╌╌╌╌╌╌╌╌╌╌┼╌╌╌╌╌╌╌╌╌╌╌╌╌┼╌╌╌╌╌╌╌╌╌┼╌╌╌┼╌╌╌╌╌╌╌╌╌╌╌╌╌┼╌╌╌╌╌╌╌╌╌╌╌╌╌┼╌╌╌╌╌╌╌╌╌╌╌╌╌┤\n",
      "│ c9f45b61-8b… ┆ POINT(107.… ┆ {xmin: 107… ┆       2 ┆ … ┆ [+84933585… ┆ {wikidata:… ┆ [{freeform… │\n",
      "├╌╌╌╌╌╌╌╌╌╌╌╌╌╌┼╌╌╌╌╌╌╌╌╌╌╌╌╌┼╌╌╌╌╌╌╌╌╌╌╌╌╌┼╌╌╌╌╌╌╌╌╌┼╌╌╌┼╌╌╌╌╌╌╌╌╌╌╌╌╌┼╌╌╌╌╌╌╌╌╌╌╌╌╌┼╌╌╌╌╌╌╌╌╌╌╌╌╌┤\n",
      "│ 46e24209-2b… ┆ POINT(107.… ┆ {xmin: 107… ┆       2 ┆ … ┆             ┆ {wikidata:… ┆ [{freeform… │\n",
      "├╌╌╌╌╌╌╌╌╌╌╌╌╌╌┼╌╌╌╌╌╌╌╌╌╌╌╌╌┼╌╌╌╌╌╌╌╌╌╌╌╌╌┼╌╌╌╌╌╌╌╌╌┼╌╌╌┼╌╌╌╌╌╌╌╌╌╌╌╌╌┼╌╌╌╌╌╌╌╌╌╌╌╌╌┼╌╌╌╌╌╌╌╌╌╌╌╌╌┤\n",
      "│ 05556fda-cf… ┆ POINT(107.… ┆ {xmin: 107… ┆       2 ┆ … ┆             ┆ {wikidata:… ┆ [{freeform… │\n",
      "└──────────────┴─────────────┴─────────────┴─────────┴───┴─────────────┴─────────────┴─────────────┘\n"
     ]
    }
   ],
   "source": [
    "df.show(10)"
   ]
  },
  {
   "cell_type": "code",
   "execution_count": 6,
   "id": "aa382251-f589-4183-b5e2-334673e858af",
   "metadata": {},
   "outputs": [],
   "source": [
    "df.to_view(\"overture_places\")"
   ]
  },
  {
   "cell_type": "code",
   "execution_count": 14,
   "id": "b6f1f31f-57c5-4b8f-9dfa-39a1eb221d22",
   "metadata": {},
   "outputs": [
    {
     "name": "stdout",
     "output_type": "stream",
     "text": [
      "┌────────────────────────────┬─────────────┬───────────────────────────┬───────────────────────────┐\n",
      "│            name            ┆   category  ┆          geometry         ┆ overture_places.addresses │\n",
      "│            utf8            ┆     utf8    ┆          geometry         ┆    [Int64(0)][region]…    │\n",
      "╞════════════════════════════╪═════════════╪═══════════════════════════╪═══════════════════════════╡\n",
      "│ Genchi - Homestay , Coffe… ┆ coffee_shop ┆ POINT(-103.3581841 -82.7… ┆                           │\n",
      "├╌╌╌╌╌╌╌╌╌╌╌╌╌╌╌╌╌╌╌╌╌╌╌╌╌╌╌╌┼╌╌╌╌╌╌╌╌╌╌╌╌╌┼╌╌╌╌╌╌╌╌╌╌╌╌╌╌╌╌╌╌╌╌╌╌╌╌╌╌╌┼╌╌╌╌╌╌╌╌╌╌╌╌╌╌╌╌╌╌╌╌╌╌╌╌╌╌╌┤\n",
      "│ Café Berakhah              ┆ coffee_shop ┆ POINT(-175.2033246 -21.1… ┆                           │\n",
      "├╌╌╌╌╌╌╌╌╌╌╌╌╌╌╌╌╌╌╌╌╌╌╌╌╌╌╌╌┼╌╌╌╌╌╌╌╌╌╌╌╌╌┼╌╌╌╌╌╌╌╌╌╌╌╌╌╌╌╌╌╌╌╌╌╌╌╌╌╌╌┼╌╌╌╌╌╌╌╌╌╌╌╌╌╌╌╌╌╌╌╌╌╌╌╌╌╌╌┤\n",
      "│ Coffee Post                ┆ coffee_shop ┆ POINT(-175.1999178 -21.1… ┆                           │\n",
      "├╌╌╌╌╌╌╌╌╌╌╌╌╌╌╌╌╌╌╌╌╌╌╌╌╌╌╌╌┼╌╌╌╌╌╌╌╌╌╌╌╌╌┼╌╌╌╌╌╌╌╌╌╌╌╌╌╌╌╌╌╌╌╌╌╌╌╌╌╌╌┼╌╌╌╌╌╌╌╌╌╌╌╌╌╌╌╌╌╌╌╌╌╌╌╌╌╌╌┤\n",
      "│ Coffee & Tees              ┆ coffee_shop ┆ POINT(-173.982611 -18.65… ┆                           │\n",
      "├╌╌╌╌╌╌╌╌╌╌╌╌╌╌╌╌╌╌╌╌╌╌╌╌╌╌╌╌┼╌╌╌╌╌╌╌╌╌╌╌╌╌┼╌╌╌╌╌╌╌╌╌╌╌╌╌╌╌╌╌╌╌╌╌╌╌╌╌╌╌┼╌╌╌╌╌╌╌╌╌╌╌╌╌╌╌╌╌╌╌╌╌╌╌╌╌╌╌┤\n",
      "│ RJ's Coffee & Tea'ings     ┆ coffee_shop ┆ POINT(-170.705 -14.2747)  ┆                           │\n",
      "└────────────────────────────┴─────────────┴───────────────────────────┴───────────────────────────┘\n"
     ]
    }
   ],
   "source": [
    "sd.sql(\"\"\"\n",
    "SELECT \n",
    "  names.primary AS name,\n",
    "  categories.primary AS category,\n",
    "  geometry,\n",
    "  addresses[0]['region']\n",
    "FROM overture_places\n",
    "WHERE categories.primary = 'coffee_shop'\n",
    "LIMIT 5;\n",
    "\"\"\").show()"
   ]
  },
  {
   "cell_type": "code",
   "execution_count": 21,
   "id": "6bf37ae9-ab51-4034-89b6-83e84a715472",
   "metadata": {},
   "outputs": [
    {
     "ename": "SedonaError",
     "evalue": "This feature is not implemented: Implementation for st_knn([WkbView(Planar, Some(AuthorityCode { authority: \"OGC\", code: \"CRS84\" })), Wkb(Planar, Some(AuthorityCode { authority: \"OGC\", code: \"CRS84\" })), Arrow(Int64), Arrow(Boolean)]) was not registered",
     "output_type": "error",
     "traceback": [
      "\u001b[0;31m---------------------------------------------------------------------------\u001b[0m",
      "\u001b[0;31mSedonaError\u001b[0m                               Traceback (most recent call last)",
      "Cell \u001b[0;32mIn[21], line 15\u001b[0m\n\u001b[1;32m      1\u001b[0m \u001b[43msd\u001b[49m\u001b[38;5;241;43m.\u001b[39;49m\u001b[43msql\u001b[49m\u001b[43m(\u001b[49m\u001b[38;5;124;43m\"\"\"\u001b[39;49m\n\u001b[1;32m      2\u001b[0m \u001b[38;5;124;43mSELECT \u001b[39;49m\n\u001b[1;32m      3\u001b[0m \u001b[38;5;124;43m  names.primary AS name,\u001b[39;49m\n\u001b[1;32m      4\u001b[0m \u001b[38;5;124;43m  categories.primary AS category,\u001b[39;49m\n\u001b[1;32m      5\u001b[0m \u001b[38;5;124;43m  geometry\u001b[39;49m\n\u001b[1;32m      6\u001b[0m \u001b[38;5;124;43mFROM overture_places\u001b[39;49m\n\u001b[1;32m      7\u001b[0m \u001b[38;5;124;43mWHERE categories.primary = \u001b[39;49m\u001b[38;5;124;43m'\u001b[39;49m\u001b[38;5;124;43mcoffee_shop\u001b[39;49m\u001b[38;5;124;43m'\u001b[39;49m\n\u001b[1;32m      8\u001b[0m \u001b[38;5;124;43m  AND ST_KNN(\u001b[39;49m\n\u001b[1;32m      9\u001b[0m \u001b[38;5;124;43m      geometry, \u001b[39;49m\n\u001b[1;32m     10\u001b[0m \u001b[38;5;124;43m      ST_SetSRID(ST_GeomFromWKT(\u001b[39;49m\u001b[38;5;124;43m'\u001b[39;49m\u001b[38;5;124;43mPOINT(-97.7431 30.2747)\u001b[39;49m\u001b[38;5;124;43m'\u001b[39;49m\u001b[38;5;124;43m), 4326), \u001b[39;49m\n\u001b[1;32m     11\u001b[0m \u001b[38;5;124;43m      5, \u001b[39;49m\n\u001b[1;32m     12\u001b[0m \u001b[38;5;124;43m      false\u001b[39;49m\n\u001b[1;32m     13\u001b[0m \u001b[38;5;124;43m    )\u001b[39;49m\n\u001b[1;32m     14\u001b[0m \u001b[38;5;124;43mLIMIT 5;\u001b[39;49m\n\u001b[0;32m---> 15\u001b[0m \u001b[38;5;124;43m\"\"\"\u001b[39;49m\u001b[43m)\u001b[49m\u001b[38;5;241;43m.\u001b[39;49m\u001b[43mshow\u001b[49m\u001b[43m(\u001b[49m\u001b[43m)\u001b[49m\n",
      "File \u001b[0;32m~/Documents/code/polygeo/sedona-examples/.venv/lib/python3.12/site-packages/sedonadb/dataframe.py:380\u001b[0m, in \u001b[0;36mDataFrame.show\u001b[0;34m(self, limit, width, ascii)\u001b[0m\n\u001b[1;32m    356\u001b[0m \u001b[38;5;250m\u001b[39m\u001b[38;5;124;03m\"\"\"Print the first limit rows to the console\u001b[39;00m\n\u001b[1;32m    357\u001b[0m \n\u001b[1;32m    358\u001b[0m \u001b[38;5;124;03mArgs:\u001b[39;00m\n\u001b[0;32m   (...)\u001b[0m\n\u001b[1;32m    377\u001b[0m \n\u001b[1;32m    378\u001b[0m \u001b[38;5;124;03m\"\"\"\u001b[39;00m\n\u001b[1;32m    379\u001b[0m width \u001b[38;5;241m=\u001b[39m \u001b[38;5;28mself\u001b[39m\u001b[38;5;241m.\u001b[39m_out_width(width)\n\u001b[0;32m--> 380\u001b[0m \u001b[38;5;28mprint\u001b[39m(\u001b[38;5;28;43mself\u001b[39;49m\u001b[38;5;241;43m.\u001b[39;49m\u001b[43m_impl\u001b[49m\u001b[38;5;241;43m.\u001b[39;49m\u001b[43mshow\u001b[49m\u001b[43m(\u001b[49m\u001b[38;5;28;43mself\u001b[39;49m\u001b[38;5;241;43m.\u001b[39;49m\u001b[43m_ctx\u001b[49m\u001b[43m,\u001b[49m\u001b[43m \u001b[49m\u001b[43mlimit\u001b[49m\u001b[43m,\u001b[49m\u001b[43m \u001b[49m\u001b[43mwidth\u001b[49m\u001b[43m,\u001b[49m\u001b[43m \u001b[49m\u001b[43mascii\u001b[49m\u001b[43m)\u001b[49m, end\u001b[38;5;241m=\u001b[39m\u001b[38;5;124m\"\u001b[39m\u001b[38;5;124m\"\u001b[39m)\n",
      "\u001b[0;31mSedonaError\u001b[0m: This feature is not implemented: Implementation for st_knn([WkbView(Planar, Some(AuthorityCode { authority: \"OGC\", code: \"CRS84\" })), Wkb(Planar, Some(AuthorityCode { authority: \"OGC\", code: \"CRS84\" })), Arrow(Int64), Arrow(Boolean)]) was not registered"
     ]
    }
   ],
   "source": [
    "sd.sql(\"\"\"\n",
    "SELECT \n",
    "  names.primary AS name,\n",
    "  categories.primary AS category,\n",
    "  geometry\n",
    "FROM overture_places\n",
    "WHERE categories.primary = 'coffee_shop'\n",
    "  AND ST_KNN(\n",
    "      geometry, \n",
    "      ST_SetSRID(ST_GeomFromWKT('POINT(-97.7431 30.2747)'), 4326), \n",
    "      5, \n",
    "      false\n",
    "    )\n",
    "LIMIT 5;\n",
    "\"\"\").show()"
   ]
  },
  {
   "cell_type": "code",
   "execution_count": null,
   "id": "eafc0506-7d20-42a7-bc11-ba639ec5684c",
   "metadata": {},
   "outputs": [],
   "source": []
  }
 ],
 "metadata": {
  "kernelspec": {
   "display_name": "Python 3 (ipykernel)",
   "language": "python",
   "name": "python3"
  },
  "language_info": {
   "codemirror_mode": {
    "name": "ipython",
    "version": 3
   },
   "file_extension": ".py",
   "mimetype": "text/x-python",
   "name": "python",
   "nbconvert_exporter": "python",
   "pygments_lexer": "ipython3",
   "version": "3.12.4"
  }
 },
 "nbformat": 4,
 "nbformat_minor": 5
}
