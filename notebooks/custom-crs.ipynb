{
 "cells": [
  {
   "cell_type": "markdown",
   "id": "cb628a6f-8cda-4384-9364-8946fadeb018",
   "metadata": {},
   "source": [
    "# Using a custom CRS with SedonaDB\n",
    "\n",
    "Motivation is from [this thread](https://news.ycombinator.com/item?id=45362206).\n",
    "\n",
    "**Question from czbond**: Question: Does SedonaDB support custom / alternative coordinate systems?  For example, if i wanted to define a 4d region called (fish, towel, mouse, alien) and there were floats for each of fish/towel/mouse/alien?\n",
    "\n",
    "**Answer from paleolimbot**: SedonaDB can decode PROJJSON and authority:code CRSes at the moment, although the underlying representation is just a string. In this case you might want something like CZBOND:999 or\n",
    "{ \"type\": \"EngineeringCRS\", \"name\": \"Fish, Towel, Mouse\", \"datum\": {\"name\": \"Wet Kitty + Mouse In Peril\"}, \"coordinate_system\": { \"subtype\": \"Cartesian\", \"axis\": [ {\"name\": \"Fish\", \"abbreviation\": \"F\", \"direction\": \"east\"}, {\"name\": \"Towel\", \"abbreviation\": \"T\", \"direction\": \"north\"}, {\"name\": \"Mouse\", \"abbreviation\": \"M\", \"direction\": \"up\"}, ] } }\n",
    "\n",
    "(Subject to the limitations of PROJJSON, such as a 4D CRS having a temporal axis and a limited set of acceptable \"direction\" values)"
   ]
  },
  {
   "cell_type": "code",
   "execution_count": 6,
   "id": "95588196-674f-423a-b24d-4ed53d1cf25b",
   "metadata": {},
   "outputs": [],
   "source": [
    "paleo_crs =  { \n",
    "    \"type\": \"EngineeringCRS\", \n",
    "    \"name\": \"Fish, Towel, Mouse\", \n",
    "    \"datum\": {\"name\": \"Wet Kitty + Mouse In Peril\"}, \n",
    "    \"coordinate_system\": { \"subtype\": \"Cartesian\", \"axis\": [ \n",
    "        {\"name\": \"Fish\", \"abbreviation\": \"F\", \"direction\": \"east\"}, \n",
    "        {\"name\": \"Towel\", \"abbreviation\": \"T\", \"direction\": \"north\"}, \n",
    "        {\"name\": \"Mouse\", \"abbreviation\": \"M\", \"direction\": \"up\"}, \n",
    "    ] }\n",
    "}"
   ]
  },
  {
   "cell_type": "code",
   "execution_count": 4,
   "id": "9f48c4b2-160e-4f0e-b8ed-385003cce65a",
   "metadata": {},
   "outputs": [],
   "source": [
    "import sedona.db\n",
    "import geopandas as gpd\n",
    "import pandas as pd\n",
    "from shapely.geometry import Point\n",
    "import json\n",
    "\n",
    "# Initialize SedonaDB context\n",
    "sd = sedona.db.connect()"
   ]
  },
  {
   "cell_type": "code",
   "execution_count": 7,
   "id": "757d2067-c728-4924-8c26-1a45e9cc8bbd",
   "metadata": {},
   "outputs": [],
   "source": [
    "data = {\n",
    "    'id': [1, 2, 3, 4, 5],\n",
    "    'feature_name': [\n",
    "        'Ancient Fish Fossil',\n",
    "        'Towel Deposit', \n",
    "        'Mouse Bones',             \n",
    "        'Mixed Layer',\n",
    "        'Surface Feature'\n",
    "    ],\n",
    "    'description': [\n",
    "        'Early Devonian',\n",
    "        'Silurian Textile',\n",
    "        'Pleistocene Rodent',            \n",
    "        'Ordovician Complex', \n",
    "        'Recent'\n",
    "    ]\n",
    "}\n",
    "\n",
    "geometries = [\n",
    "    Point(100.5, 250.3, 45.2),\n",
    "    Point(150.2, 300.7, 30.1),\n",
    "    Point(200.8, 275.4, 60.5),\n",
    "    Point(125.6, 320.9, 25.8),\n",
    "    Point(175.3, 290.1, 55.0)\n",
    "]\n",
    "\n",
    "gdf = gpd.GeoDataFrame(\n",
    "    data,\n",
    "    geometry=geometries,\n",
    "    crs=paleo_crs\n",
    ")"
   ]
  },
  {
   "cell_type": "code",
   "execution_count": 8,
   "id": "e60adf0b-93c6-4bcc-82b2-60da6e8d1e78",
   "metadata": {},
   "outputs": [],
   "source": [
    "df = sd.create_data_frame(gdf)"
   ]
  },
  {
   "cell_type": "code",
   "execution_count": 9,
   "id": "bf7ccd6b-0c02-4871-95fd-d7496b56d5fc",
   "metadata": {},
   "outputs": [
    {
     "data": {
      "text/plain": [
       "SedonaSchema with 4 fields:\n",
       "  id: int64<Int64>\n",
       "  feature_name: utf8<Utf8>\n",
       "  description: utf8<Utf8>\n",
       "  geometry: geometry<Wkb({...})>"
      ]
     },
     "execution_count": 9,
     "metadata": {},
     "output_type": "execute_result"
    }
   ],
   "source": [
    "df.schema"
   ]
  },
  {
   "cell_type": "code",
   "execution_count": 10,
   "id": "fe52cc05-c1cb-45b1-a4e6-841a2e2e09b0",
   "metadata": {},
   "outputs": [],
   "source": [
    "df.to_view(\"sites\")"
   ]
  },
  {
   "cell_type": "code",
   "execution_count": 12,
   "id": "95787ee6-f93a-435c-adea-99e09c0c626f",
   "metadata": {},
   "outputs": [
    {
     "name": "stdout",
     "output_type": "stream",
     "text": [
      "┌───────┬─────────────────────┬────────────────────┬───────────────────────────┐\n",
      "│   id  ┆     feature_name    ┆     description    ┆          geometry         │\n",
      "│ int64 ┆         utf8        ┆        utf8        ┆          geometry         │\n",
      "╞═══════╪═════════════════════╪════════════════════╪═══════════════════════════╡\n",
      "│     1 ┆ Ancient Fish Fossil ┆ Early Devonian     ┆ POINT Z(100.5 250.3 45.2) │\n",
      "├╌╌╌╌╌╌╌┼╌╌╌╌╌╌╌╌╌╌╌╌╌╌╌╌╌╌╌╌╌┼╌╌╌╌╌╌╌╌╌╌╌╌╌╌╌╌╌╌╌╌┼╌╌╌╌╌╌╌╌╌╌╌╌╌╌╌╌╌╌╌╌╌╌╌╌╌╌╌┤\n",
      "│     2 ┆ Towel Deposit       ┆ Silurian Textile   ┆ POINT Z(150.2 300.7 30.1) │\n",
      "├╌╌╌╌╌╌╌┼╌╌╌╌╌╌╌╌╌╌╌╌╌╌╌╌╌╌╌╌╌┼╌╌╌╌╌╌╌╌╌╌╌╌╌╌╌╌╌╌╌╌┼╌╌╌╌╌╌╌╌╌╌╌╌╌╌╌╌╌╌╌╌╌╌╌╌╌╌╌┤\n",
      "│     3 ┆ Mouse Bones         ┆ Pleistocene Rodent ┆ POINT Z(200.8 275.4 60.5) │\n",
      "├╌╌╌╌╌╌╌┼╌╌╌╌╌╌╌╌╌╌╌╌╌╌╌╌╌╌╌╌╌┼╌╌╌╌╌╌╌╌╌╌╌╌╌╌╌╌╌╌╌╌┼╌╌╌╌╌╌╌╌╌╌╌╌╌╌╌╌╌╌╌╌╌╌╌╌╌╌╌┤\n",
      "│     4 ┆ Mixed Layer         ┆ Ordovician Complex ┆ POINT Z(125.6 320.9 25.8) │\n",
      "├╌╌╌╌╌╌╌┼╌╌╌╌╌╌╌╌╌╌╌╌╌╌╌╌╌╌╌╌╌┼╌╌╌╌╌╌╌╌╌╌╌╌╌╌╌╌╌╌╌╌┼╌╌╌╌╌╌╌╌╌╌╌╌╌╌╌╌╌╌╌╌╌╌╌╌╌╌╌┤\n",
      "│     5 ┆ Surface Feature     ┆ Recent             ┆ POINT Z(175.3 290.1 55)   │\n",
      "└───────┴─────────────────────┴────────────────────┴───────────────────────────┘\n"
     ]
    }
   ],
   "source": [
    "df.show()"
   ]
  },
  {
   "cell_type": "code",
   "execution_count": 15,
   "id": "9bb5a39d-308c-4c46-a1e3-2d92d3ee179a",
   "metadata": {},
   "outputs": [
    {
     "name": "stdout",
     "output_type": "stream",
     "text": [
      "┌────────────────────┬─────────────────┬─────────────┬───────────┬────────────┬─────────┬──────────┐\n",
      "│      from_site     ┆     to_site     ┆ distance_2d ┆ from_fish ┆ from_towel ┆ to_fish ┆ to_towel │\n",
      "│        utf8        ┆       utf8      ┆   float64   ┆  float64  ┆   float64  ┆ float64 ┆  float64 │\n",
      "╞════════════════════╪═════════════════╪═════════════╪═══════════╪════════════╪═════════╪══════════╡\n",
      "│ Towel Deposit      ┆ Surface Feature ┆       27.25 ┆     150.2 ┆      300.7 ┆   175.3 ┆    290.1 │\n",
      "├╌╌╌╌╌╌╌╌╌╌╌╌╌╌╌╌╌╌╌╌┼╌╌╌╌╌╌╌╌╌╌╌╌╌╌╌╌╌┼╌╌╌╌╌╌╌╌╌╌╌╌╌┼╌╌╌╌╌╌╌╌╌╌╌┼╌╌╌╌╌╌╌╌╌╌╌╌┼╌╌╌╌╌╌╌╌╌┼╌╌╌╌╌╌╌╌╌╌┤\n",
      "│ Mouse Bones        ┆ Surface Feature ┆       29.43 ┆     200.8 ┆      275.4 ┆   175.3 ┆    290.1 │\n",
      "├╌╌╌╌╌╌╌╌╌╌╌╌╌╌╌╌╌╌╌╌┼╌╌╌╌╌╌╌╌╌╌╌╌╌╌╌╌╌┼╌╌╌╌╌╌╌╌╌╌╌╌╌┼╌╌╌╌╌╌╌╌╌╌╌┼╌╌╌╌╌╌╌╌╌╌╌╌┼╌╌╌╌╌╌╌╌╌┼╌╌╌╌╌╌╌╌╌╌┤\n",
      "│ Towel Deposit      ┆ Mixed Layer     ┆       31.83 ┆     150.2 ┆      300.7 ┆   125.6 ┆    320.9 │\n",
      "├╌╌╌╌╌╌╌╌╌╌╌╌╌╌╌╌╌╌╌╌┼╌╌╌╌╌╌╌╌╌╌╌╌╌╌╌╌╌┼╌╌╌╌╌╌╌╌╌╌╌╌╌┼╌╌╌╌╌╌╌╌╌╌╌┼╌╌╌╌╌╌╌╌╌╌╌╌┼╌╌╌╌╌╌╌╌╌┼╌╌╌╌╌╌╌╌╌╌┤\n",
      "│ Towel Deposit      ┆ Mouse Bones     ┆       56.57 ┆     150.2 ┆      300.7 ┆   200.8 ┆    275.4 │\n",
      "├╌╌╌╌╌╌╌╌╌╌╌╌╌╌╌╌╌╌╌╌┼╌╌╌╌╌╌╌╌╌╌╌╌╌╌╌╌╌┼╌╌╌╌╌╌╌╌╌╌╌╌╌┼╌╌╌╌╌╌╌╌╌╌╌┼╌╌╌╌╌╌╌╌╌╌╌╌┼╌╌╌╌╌╌╌╌╌┼╌╌╌╌╌╌╌╌╌╌┤\n",
      "│ Mixed Layer        ┆ Surface Feature ┆       58.47 ┆     125.6 ┆      320.9 ┆   175.3 ┆    290.1 │\n",
      "├╌╌╌╌╌╌╌╌╌╌╌╌╌╌╌╌╌╌╌╌┼╌╌╌╌╌╌╌╌╌╌╌╌╌╌╌╌╌┼╌╌╌╌╌╌╌╌╌╌╌╌╌┼╌╌╌╌╌╌╌╌╌╌╌┼╌╌╌╌╌╌╌╌╌╌╌╌┼╌╌╌╌╌╌╌╌╌┼╌╌╌╌╌╌╌╌╌╌┤\n",
      "│ Ancient Fish Foss… ┆ Towel Deposit   ┆       70.78 ┆     100.5 ┆      250.3 ┆   150.2 ┆    300.7 │\n",
      "├╌╌╌╌╌╌╌╌╌╌╌╌╌╌╌╌╌╌╌╌┼╌╌╌╌╌╌╌╌╌╌╌╌╌╌╌╌╌┼╌╌╌╌╌╌╌╌╌╌╌╌╌┼╌╌╌╌╌╌╌╌╌╌╌┼╌╌╌╌╌╌╌╌╌╌╌╌┼╌╌╌╌╌╌╌╌╌┼╌╌╌╌╌╌╌╌╌╌┤\n",
      "│ Ancient Fish Foss… ┆ Mixed Layer     ┆       74.93 ┆     100.5 ┆      250.3 ┆   125.6 ┆    320.9 │\n",
      "├╌╌╌╌╌╌╌╌╌╌╌╌╌╌╌╌╌╌╌╌┼╌╌╌╌╌╌╌╌╌╌╌╌╌╌╌╌╌┼╌╌╌╌╌╌╌╌╌╌╌╌╌┼╌╌╌╌╌╌╌╌╌╌╌┼╌╌╌╌╌╌╌╌╌╌╌╌┼╌╌╌╌╌╌╌╌╌┼╌╌╌╌╌╌╌╌╌╌┤\n",
      "│ Ancient Fish Foss… ┆ Surface Feature ┆       84.73 ┆     100.5 ┆      250.3 ┆   175.3 ┆    290.1 │\n",
      "├╌╌╌╌╌╌╌╌╌╌╌╌╌╌╌╌╌╌╌╌┼╌╌╌╌╌╌╌╌╌╌╌╌╌╌╌╌╌┼╌╌╌╌╌╌╌╌╌╌╌╌╌┼╌╌╌╌╌╌╌╌╌╌╌┼╌╌╌╌╌╌╌╌╌╌╌╌┼╌╌╌╌╌╌╌╌╌┼╌╌╌╌╌╌╌╌╌╌┤\n",
      "│ Mouse Bones        ┆ Mixed Layer     ┆       87.89 ┆     200.8 ┆      275.4 ┆   125.6 ┆    320.9 │\n",
      "├╌╌╌╌╌╌╌╌╌╌╌╌╌╌╌╌╌╌╌╌┼╌╌╌╌╌╌╌╌╌╌╌╌╌╌╌╌╌┼╌╌╌╌╌╌╌╌╌╌╌╌╌┼╌╌╌╌╌╌╌╌╌╌╌┼╌╌╌╌╌╌╌╌╌╌╌╌┼╌╌╌╌╌╌╌╌╌┼╌╌╌╌╌╌╌╌╌╌┤\n",
      "│ Ancient Fish Foss… ┆ Mouse Bones     ┆      103.39 ┆     100.5 ┆      250.3 ┆   200.8 ┆    275.4 │\n",
      "└────────────────────┴─────────────────┴─────────────┴───────────┴────────────┴─────────┴──────────┘\n"
     ]
    }
   ],
   "source": [
    "sd.sql(\"\"\"\n",
    "SELECT \n",
    "    a.feature_name AS from_site,\n",
    "    b.feature_name AS to_site,\n",
    "    ROUND(ST_Distance(a.geometry, b.geometry), 2) AS distance_2d,\n",
    "    ROUND(ST_X(a.geometry), 1) AS from_fish,\n",
    "    ROUND(ST_Y(a.geometry), 1) AS from_towel,\n",
    "    ROUND(ST_X(b.geometry), 1) AS to_fish,\n",
    "    ROUND(ST_Y(b.geometry), 1) AS to_towel\n",
    "FROM sites a\n",
    "CROSS JOIN sites b\n",
    "WHERE a.id < b.id\n",
    "ORDER BY distance_2d;\n",
    "\"\"\").show()"
   ]
  }
 ],
 "metadata": {
  "kernelspec": {
   "display_name": "Python 3 (ipykernel)",
   "language": "python",
   "name": "python3"
  },
  "language_info": {
   "codemirror_mode": {
    "name": "ipython",
    "version": 3
   },
   "file_extension": ".py",
   "mimetype": "text/x-python",
   "name": "python",
   "nbconvert_exporter": "python",
   "pygments_lexer": "ipython3",
   "version": "3.12.4"
  }
 },
 "nbformat": 4,
 "nbformat_minor": 5
}
